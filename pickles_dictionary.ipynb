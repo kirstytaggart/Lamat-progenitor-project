{
 "cells": [
  {
   "cell_type": "code",
   "execution_count": 14,
   "id": "cea70fa1",
   "metadata": {},
   "outputs": [],
   "source": [
    "#import packages\n",
    "import numpy as np\n",
    "from astropy.io import fits\n",
    "import os"
   ]
  },
  {
   "cell_type": "code",
   "execution_count": 2,
   "id": "659f51a6",
   "metadata": {
    "scrolled": true
   },
   "outputs": [
    {
     "ename": "SyntaxError",
     "evalue": "invalid syntax (3654102153.py, line 1)",
     "output_type": "error",
     "traceback": [
      "\u001b[0;36m  Input \u001b[0;32mIn [2]\u001b[0;36m\u001b[0m\n\u001b[0;31m    smodels =  {'pickles_uk':(fits header ,fits data),\u001b[0m\n\u001b[0m                                   ^\u001b[0m\n\u001b[0;31mSyntaxError\u001b[0m\u001b[0;31m:\u001b[0m invalid syntax\n"
     ]
    }
   ],
   "source": [
    "smodels =  {'pickles_uk':(fits header ,fits data),\n",
    "            'pickles_uk_1':(fits header ,fits data)}"
   ]
  },
  {
   "cell_type": "code",
   "execution_count": 20,
   "id": "966955cd",
   "metadata": {},
   "outputs": [
    {
     "data": {
      "text/plain": [
       "XTENSION= 'BINTABLE'           / binary table extension                         \n",
       "BITPIX  =                    8 / 8-bit bytes                                    \n",
       "NAXIS   =                    2 / 2-dimensional binary table                     \n",
       "NAXIS1  =                    8 / width of table in bytes                        \n",
       "NAXIS2  =                 4771                                                  \n",
       "PCOUNT  =                    0 / size of special data area                      \n",
       "GCOUNT  =                    1 / one data group (required keyword)              \n",
       "TFIELDS =                    2                                                  \n",
       "TTYPE1  = 'WAVELENGTH'         / label for field   1                            \n",
       "TFORM1  = '1E      '           / data format of field: 4-byte REAL              \n",
       "TUNIT1  = 'angstroms'          / physical unit of field                         \n",
       "TDISP1  = 'G15.7   '           / display format                                 \n",
       "GRFTABLE= 'local$qc80137jm_tmg.fits'                                            \n",
       "CMPTABLE= 'local$qc80137im_tmc.fits'                                            \n",
       "TTYPE2  = 'FLUX    '           / label for field                                \n",
       "TFORM2  = '1E      '           / format of field                                \n",
       "TUNIT2  = 'flam    '           / column units                                   \n",
       "TDISP2  = 'G15.7   '           / display format                                 \n",
       "EXPR    = 'rn(uko5v.dat,band(v),0,vegamag)'                                     "
      ]
     },
     "execution_count": 20,
     "metadata": {},
     "output_type": "execute_result"
    }
   ],
   "source": [
    "#test\n",
    "test_path = '/Users/Dominic/Desktop/dat_uvk/pickles_uk_1.fits'\n",
    "test_img = fits.open(path)\n",
    "test_data, test_header = fits.getdata(path, header = True)\n",
    "test_header"
   ]
  },
  {
   "cell_type": "code",
   "execution_count": 22,
   "id": "480e4364",
   "metadata": {},
   "outputs": [
    {
     "data": {
      "text/plain": [
       "FITS_rec([( 1150., 3.0429813e-08), ( 1155., 3.4066929e-08),\n",
       "          ( 1160., 2.8796428e-08), ..., (24990., 1.1017267e-12),\n",
       "          (24995., 0.0000000e+00), (25000., 0.0000000e+00)],\n",
       "         dtype=(numpy.record, [('WAVELENGTH', '>f4'), ('FLUX', '>f4')]))"
      ]
     },
     "execution_count": 22,
     "metadata": {},
     "output_type": "execute_result"
    }
   ],
   "source": [
    "#test\n",
    "test_data"
   ]
  },
  {
   "cell_type": "code",
   "execution_count": 99,
   "id": "f072c989",
   "metadata": {},
   "outputs": [],
   "source": [
    "def createpickledic(path):\n",
    "    pickle_dic = {}\n",
    "    dir_list = os.listdir(path)\n",
    "    #for each file in path\n",
    "    for file in os.listdir(path):\n",
    "        img = fits.open(path+file)\n",
    "        data, test_header = fits.getdata(path+file, header = True)\n",
    "        pickle_dic.update({file: [data , header]})  \n",
    "    return pickle_dic"
   ]
  },
  {
   "cell_type": "code",
   "execution_count": 100,
   "id": "946c7875",
   "metadata": {},
   "outputs": [],
   "source": [
    "path = '/Users/Dominic/Desktop/dat_uvk/'\n",
    "pickle_dic = createpickledic(path)"
   ]
  },
  {
   "cell_type": "code",
   "execution_count": 103,
   "id": "c355fede",
   "metadata": {},
   "outputs": [
    {
     "data": {
      "text/plain": [
       "[FITS_rec([( 1150., 0.0000000e+00), ( 1155., 0.0000000e+00),\n",
       "           ( 1160., 0.0000000e+00), ..., (24990., 1.0648454e-11),\n",
       "           (24995., 0.0000000e+00), (25000., 0.0000000e+00)],\n",
       "          dtype=(numpy.record, [('WAVELENGTH', '>f4'), ('FLUX', '>f4')])),\n",
       " XTENSION= 'BINTABLE'           / binary table extension                         \n",
       " BITPIX  =                    8 / 8-bit bytes                                    \n",
       " NAXIS   =                    2 / 2-dimensional binary table                     \n",
       " NAXIS1  =                    8 / width of table in bytes                        \n",
       " NAXIS2  =                 4771                                                  \n",
       " PCOUNT  =                    0 / size of special data area                      \n",
       " GCOUNT  =                    1 / one data group (required keyword)              \n",
       " TFIELDS =                    2                                                  \n",
       " TTYPE1  = 'WAVELENGTH'         / label for field   1                            \n",
       " TFORM1  = '1E      '           / data format of field: 4-byte REAL              \n",
       " TUNIT1  = 'angstroms'          / physical unit of field                         \n",
       " TDISP1  = 'G15.7   '           / display format                                 \n",
       " GRFTABLE= 'local$qc80137jm_tmg.fits'                                            \n",
       " CMPTABLE= 'local$qc80137im_tmc.fits'                                            \n",
       " TTYPE2  = 'FLUX    '           / label for field                                \n",
       " TFORM2  = '1E      '           / format of field                                \n",
       " TUNIT2  = 'flam    '           / column units                                   \n",
       " TDISP2  = 'G15.7   '           / display format                                 \n",
       " EXPR    = 'rn(uko5v.dat,band(v),0,vegamag)'                                     ]"
      ]
     },
     "execution_count": 103,
     "metadata": {},
     "output_type": "execute_result"
    }
   ],
   "source": [
    "pickle_dic['pickles_uk_52.fits']"
   ]
  },
  {
   "cell_type": "code",
   "execution_count": null,
   "id": "56744b9e",
   "metadata": {},
   "outputs": [],
   "source": []
  }
 ],
 "metadata": {
  "kernelspec": {
   "display_name": "Python 3 (ipykernel)",
   "language": "python",
   "name": "python3"
  },
  "language_info": {
   "codemirror_mode": {
    "name": "ipython",
    "version": 3
   },
   "file_extension": ".py",
   "mimetype": "text/x-python",
   "name": "python",
   "nbconvert_exporter": "python",
   "pygments_lexer": "ipython3",
   "version": "3.9.12"
  }
 },
 "nbformat": 4,
 "nbformat_minor": 5
}
