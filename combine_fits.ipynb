{
 "cells": [
  {
   "cell_type": "code",
   "execution_count": 3,
   "id": "9e20f700",
   "metadata": {},
   "outputs": [],
   "source": [
    "from astropy.io import fits\n",
    "from astropy.table import vstack, Table\n",
    "import numpy as np\n",
    "import os"
   ]
  },
  {
   "cell_type": "code",
   "execution_count": 119,
   "id": "3b291595",
   "metadata": {},
   "outputs": [],
   "source": [
    "def combine_all_fits(path):\n",
    "    #grab dir\n",
    "    dir_list = os.listdir(path)\n",
    "    #make first base table of first file\n",
    "    combined_file = dir_list[0]\n",
    "    print(combined_file)\n",
    "    for file in dir_list[1:]: #start at second file\n",
    "        filename = os.fsdecode(file)\n",
    "        if '-cut' in filename:\n",
    "            #make new table, make base table of combined file\n",
    "            #print(filename)\n",
    "            #print(combined_file)\n",
    "            input_table = Table.read(path+filename)\n",
    "            base_file = combined_file\n",
    "            base_table = Table.read(path + combined_file)\n",
    "            #print(len(input_table))\n",
    "            #print(len(base_table))\n",
    "            concat_table = vstack([base_table,input_table]) #combine tables\n",
    "            concat_table.write(path + 'combined_file.fits', format='fits', overwrite=True) #write table\n",
    "            combined_file = 'combined_file.fits' \n",
    "    \n",
    "    combined_table = Table.read(path + 'combined_file.fits')\n",
    "    print(len(combined_file)) #print length of table\n"
   ]
  },
  {
   "cell_type": "code",
   "execution_count": 120,
   "id": "48e02a3b",
   "metadata": {
    "scrolled": true
   },
   "outputs": [
    {
     "name": "stdout",
     "output_type": "stream",
     "text": [
      "2021sjt-F110W-mjd_57452-cut.fits\n",
      "18\n",
      "43767\n"
     ]
    }
   ],
   "source": [
    "#dir_list = os.listdir('/Users/Dominic/Lamat/PROGRAMS/test_combine_fits/SJT')\n",
    "#dir_list[0]\n",
    "\n",
    "\n",
    "combine_all_fits('/Users/Dominic/Lamat/PROGRAMS/test_combine_fits/SJT/')\n",
    "combined_table = Table.read('/Users/Dominic/Lamat/PROGRAMS/test_combine_fits/SJT/combined_file.fits')\n",
    "print(len(combined_table))"
   ]
  },
  {
   "cell_type": "code",
   "execution_count": 116,
   "id": "3a89158f",
   "metadata": {},
   "outputs": [
    {
     "data": {
      "text/plain": [
       "43767"
      ]
     },
     "execution_count": 116,
     "metadata": {},
     "output_type": "execute_result"
    }
   ],
   "source": [
    "len(combined_table)"
   ]
  },
  {
   "cell_type": "code",
   "execution_count": 68,
   "id": "6e1c0328",
   "metadata": {},
   "outputs": [],
   "source": [
    "#TESTING SINGLE COMBINATION\n",
    "input_file = '/Users/Dominic/Lamat/PROGRAMS/test_photometry/photometry_catalogs/SJT/2021sjt-F555W-mjd_59197-cut.fits'\n",
    "base_file = '/Users/Dominic/Lamat/PROGRAMS/test_photometry/photometry_catalogs/SJT/2021sjt-F555W-mjd_59197-cut.fits'\n",
    "\n",
    "input_table = Table.read(input_file)\n",
    "base_table = Table.read(base_file)\n",
    "concat_table = vstack([base_table,input_table])\n",
    "concat_table.write('combined_file.fits', format='fits', overwrite=True)\n",
    "combined_file = '/Users/Dominic/Lamat/PROGRAMS/combined_file.fits'\n",
    "combined_table = Table.read(combined_file)"
   ]
  },
  {
   "cell_type": "code",
   "execution_count": 15,
   "id": "45f54648",
   "metadata": {},
   "outputs": [
    {
     "data": {
      "text/html": [
       "<div><i>Table length=2</i>\n",
       "<table id=\"table140187870028416\" class=\"table-striped table-bordered table-condensed\">\n",
       "<thead><tr><th>chip</th><th>RA</th><th>DEC</th><th>X</th><th>Y</th><th>OBJECT_TYPE</th><th>F555W_VEGA</th><th>F555W_ERR</th><th>F555W_SNR</th><th>F555W_SHARP</th><th>F555W_ROUND</th><th>F555W_CROWD</th><th>F555W_FLAG</th></tr></thead>\n",
       "<thead><tr><th>float64</th><th>float64</th><th>float64</th><th>float64</th><th>float64</th><th>float64</th><th>float64</th><th>float64</th><th>float64</th><th>float64</th><th>float64</th><th>float64</th><th>float64</th></tr></thead>\n",
       "<tr><td>1.0</td><td>309.3252588765575</td><td>66.10323844654968</td><td>2070.5</td><td>1304.18</td><td>1.0</td><td>18.124</td><td>0.001</td><td>773.5</td><td>-0.047</td><td>0.012</td><td>0.064</td><td>0.0</td></tr>\n",
       "<tr><td>1.0</td><td>309.33464997860426</td><td>66.1259508965409</td><td>17.23</td><td>901.16</td><td>1.0</td><td>18.685</td><td>0.002</td><td>615.4</td><td>-0.024</td><td>0.012</td><td>0.035</td><td>0.0</td></tr>\n",
       "</table></div>"
      ],
      "text/plain": [
       "<Table length=2>\n",
       "  chip          RA                DEC        ... F555W_CROWD F555W_FLAG\n",
       "float64      float64            float64      ...   float64    float64  \n",
       "------- ------------------ ----------------- ... ----------- ----------\n",
       "    1.0  309.3252588765575 66.10323844654968 ...       0.064        0.0\n",
       "    1.0 309.33464997860426  66.1259508965409 ...       0.035        0.0"
      ]
     },
     "execution_count": 15,
     "metadata": {},
     "output_type": "execute_result"
    }
   ],
   "source": [
    "input_table[0:2]"
   ]
  },
  {
   "cell_type": "code",
   "execution_count": 16,
   "id": "00a0e8d4",
   "metadata": {},
   "outputs": [
    {
     "data": {
      "text/plain": [
       "6767"
      ]
     },
     "execution_count": 16,
     "metadata": {},
     "output_type": "execute_result"
    }
   ],
   "source": [
    "len(input_table)"
   ]
  },
  {
   "cell_type": "code",
   "execution_count": 17,
   "id": "98911949",
   "metadata": {},
   "outputs": [
    {
     "data": {
      "text/html": [
       "<div><i>Table length=2</i>\n",
       "<table id=\"table140187870029040\" class=\"table-striped table-bordered table-condensed\">\n",
       "<thead><tr><th>chip</th><th>RA</th><th>DEC</th><th>X</th><th>Y</th><th>OBJECT_TYPE</th><th>F555W_VEGA</th><th>F555W_ERR</th><th>F555W_SNR</th><th>F555W_SHARP</th><th>F555W_ROUND</th><th>F555W_CROWD</th><th>F555W_FLAG</th></tr></thead>\n",
       "<thead><tr><th>float64</th><th>float64</th><th>float64</th><th>float64</th><th>float64</th><th>float64</th><th>float64</th><th>float64</th><th>float64</th><th>float64</th><th>float64</th><th>float64</th><th>float64</th></tr></thead>\n",
       "<tr><td>1.0</td><td>309.3314740994456</td><td>66.10636211264972</td><td>1793.18</td><td>1067.58</td><td>1.0</td><td>26.962</td><td>0.21</td><td>5.2</td><td>-0.186</td><td>0.223</td><td>0.454</td><td>0.0</td></tr>\n",
       "<tr><td>1.0</td><td>309.32171662218053</td><td>66.10614488969757</td><td>1802.86</td><td>1427.1</td><td>1.0</td><td>26.938</td><td>0.216</td><td>5.0</td><td>-0.183</td><td>0.277</td><td>0.066</td><td>0.0</td></tr>\n",
       "</table></div>"
      ],
      "text/plain": [
       "<Table length=2>\n",
       "  chip          RA                DEC        ... F555W_CROWD F555W_FLAG\n",
       "float64      float64            float64      ...   float64    float64  \n",
       "------- ------------------ ----------------- ... ----------- ----------\n",
       "    1.0  309.3314740994456 66.10636211264972 ...       0.454        0.0\n",
       "    1.0 309.32171662218053 66.10614488969757 ...       0.066        0.0"
      ]
     },
     "execution_count": 17,
     "metadata": {},
     "output_type": "execute_result"
    }
   ],
   "source": [
    "base_table[2931:2933]"
   ]
  },
  {
   "cell_type": "code",
   "execution_count": 18,
   "id": "aa28b9cb",
   "metadata": {},
   "outputs": [
    {
     "data": {
      "text/plain": [
       "6767"
      ]
     },
     "execution_count": 18,
     "metadata": {},
     "output_type": "execute_result"
    }
   ],
   "source": [
    "len(base_table)"
   ]
  },
  {
   "cell_type": "code",
   "execution_count": 20,
   "id": "25bcedcc",
   "metadata": {
    "scrolled": true
   },
   "outputs": [
    {
     "data": {
      "text/plain": [
       "13534"
      ]
     },
     "execution_count": 20,
     "metadata": {},
     "output_type": "execute_result"
    }
   ],
   "source": [
    "#seems to combine base table then input directly on top\n",
    "len(combined_table)"
   ]
  },
  {
   "cell_type": "code",
   "execution_count": null,
   "id": "16d87e82",
   "metadata": {},
   "outputs": [],
   "source": []
  }
 ],
 "metadata": {
  "kernelspec": {
   "display_name": "Python 3 (ipykernel)",
   "language": "python",
   "name": "python3"
  },
  "language_info": {
   "codemirror_mode": {
    "name": "ipython",
    "version": 3
   },
   "file_extension": ".py",
   "mimetype": "text/x-python",
   "name": "python",
   "nbconvert_exporter": "python",
   "pygments_lexer": "ipython3",
   "version": "3.9.7"
  }
 },
 "nbformat": 4,
 "nbformat_minor": 5
}
