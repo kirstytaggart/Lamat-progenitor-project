{
 "cells": [
  {
   "cell_type": "code",
   "execution_count": 14,
   "id": "0dce958f",
   "metadata": {},
   "outputs": [],
   "source": [
    "# Cuts used to go from summary.fits to cut.fits, for now we will use the cut.fits file\n",
    "\n",
    "#snr = 5.0\n",
    "#sharp = 0.04\n",
    "#crowd = 0.5\n",
    "#objtype = 1\n",
    "#flag = 99\n",
    "#importing modules\n",
    "\n",
    "from astropy.io import fits\n",
    "from astropy.table import Table\n",
    "from astropy.coordinates import SkyCoord\n",
    "from astropy import units as u\n",
    "from astropy.coordinates import match_coordinates_sky\n",
    "import numpy as np\n",
    "import os\n",
    "import glob "
   ]
  },
  {
   "cell_type": "code",
   "execution_count": 85,
   "id": "ab6fcf8b",
   "metadata": {},
   "outputs": [],
   "source": [
    "#DECLARING DIRECTORIES AND SEARCH PROPERTIES\n",
    "#path to folder of summary/cut.fits with format sn_name-filter-mjd_#-cut/sum.fits i.e: 2021gmj-F625W-mjd_59574-cut.fits\n",
    "#ONLY FITS FILES IN FOLDER!!!!\n",
    "path = '/Users/Dominic/Lamat/2022cmc/photometry/summary/'\n",
    "#path to base folder to save table\n",
    "table_path = '/Users/Dominic/Lamat/2022cmc/tables/'\n",
    "#where full region files will be written\n",
    "outpath_full = '/Users/Dominic/Lamat/2022cmc/photometry/final_catalogs_full/'\n",
    "outpath_cut = '/Users/Dominic/Lamat/2022cmc/photometry/final_catalogs_cut/'\n",
    "#where cut region files will be written\n",
    "#position in ra and dec (degrees)\n",
    "ra = 203.6800286\n",
    "dec = 33.216817166666665\n",
    "#search radius (arc seconds)\n",
    "radius = 1"
   ]
  },
  {
   "cell_type": "code",
   "execution_count": 135,
   "id": "da5b1e9b",
   "metadata": {},
   "outputs": [],
   "source": [
    "#writes region files to outpath\n",
    "#the centre of ds9 pixel is (1,1), but centre of dolphot pixel is (0.5,0.5)\n",
    "#to make it in ds9 format it’s (+0.5,+0.5) to dolphot coordinates\n",
    "def writeregionfile(filename, outpath, objlist, radius, color=\"blue\", sys=''):\n",
    "    if sys == '': \n",
    "        sys = 'wcs'\n",
    "    completeName = os.path.join(outpath, filename)\n",
    "    out = open(completeName, 'w')\n",
    "    i = -1\n",
    "    out.write('# Region file format: DS9 version 4.0\\nglobal color='+ color +' font=\"helvetica 10 normal\" select=1 highlite=1 edit=1 move=1 delete=1 include=1 fixed=0 source\\n')\n",
    "    if sys == 'wcs':\n",
    "        out.write('fk5\\n')\n",
    "        for i in range(len(objlist)):\n",
    "            out.write(\"point(%.7f,%.7f) # point=boxcircle text={%i}\\n\" % (objlist.RA[i],objlist.DEC[i], i))\n",
    "        out.write(\"circle(\" + str(objlist.RA[0]) + \",\" + str(objlist.DEC[0]) + \",\" + str(radius/3600) +\")\\n\")#1 degree is 3600 arcsecs\n",
    "    if sys == 'img':\n",
    "        out.write('image\\n')\n",
    "        for i in range(len(objlist)):\n",
    "            out.write(\"point(%.3f,%.3f) # point=boxcircle text={%i}\\n\" % (objlist.X[i] + 0.5 ,objlist.Y[i] + 0.5, i))\n",
    "        out.write(\"circle(\" + str(objlist.X[0]) + \",\" + str(objlist.Y[0]) + \",\" + str(radius * 25.239777) +\")\\n\")#25.239777 is 1 arcsec in physical\n",
    "    out.close()\n",
    "    print(\"writing region file:\", filename)\n"
   ]
  },
  {
   "cell_type": "code",
   "execution_count": 4,
   "id": "7d0925f5",
   "metadata": {},
   "outputs": [],
   "source": [
    "#finds sn name, filter, mjd (date), and search radius\n",
    "def find_attributes(filename, radius):\n",
    "    global sn_name\n",
    "    global filt\n",
    "    global mjd\n",
    "    global search_radius\n",
    "    #reset attributes\n",
    "    sn_name = ''\n",
    "    filt = ''\n",
    "    mjd = ''\n",
    "    search_radius = 0\n",
    "    #split name\n",
    "    filename_split = filename.split(\"-\")#split filename into attributes\n",
    "    \n",
    "    #find name\n",
    "    sn_name = filename_split[0]\n",
    "    print(\"SN name: \" + sn_name)\n",
    "    #find filt\n",
    "    filt = filename_split[1]\n",
    "    print(\"filt: \" + filt)\n",
    "    #find mjd    \n",
    "    mjd = filename_split[2]\n",
    "    print(\"MJD: \" + mjd)\n",
    "    \n",
    "    search_radius = radius * u.arcsec\n",
    "    print('Search radius: ' + str(search_radius))"
   ]
  },
  {
   "cell_type": "code",
   "execution_count": 147,
   "id": "d10f5790",
   "metadata": {},
   "outputs": [],
   "source": [
    "#creates cut region files using cut.fits and table of all region points properties\n",
    "#rai, deci is ra and dec of position, radius is search radius\n",
    "def returnregionfilescut(path, rai, deci, radius, outpath, table_path): #use this for cut.fits\n",
    "    dir_list = glob.glob(path)\n",
    "    filenames = [os.path.basename(x) for x in glob.glob(path+\"*-cut.fits\")]\n",
    "    count = 0\n",
    "    #for each file in path\n",
    "    for count, filename in enumerate(filenames):\n",
    "        if filename != '.DS_Store': #weird mac meta file\n",
    "            find_attributes(filename, radius)\n",
    "            sn_position = SkyCoord(rai*u.degree, +deci*u.degree)\n",
    "            cut_catalog=fits.open(path+filename, ignore_missing_simple=True)[1]\n",
    "            data_cut=cut_catalog.data\n",
    "            tbl_cut=Table(data_cut)\n",
    "            radec_cut = SkyCoord(ra=data_cut.RA*u.degree, dec=data_cut.DEC*u.degree)\n",
    "            d2d_cut = sn_position.separation(radec_cut)\n",
    "            index_cut= d2d_cut < search_radius\n",
    "            data_searched_cut=data_cut[index_cut]\n",
    "            tbl_searched_cut=tbl_cut[index_cut]\n",
    "            writeregionfile(sn_name+\"-\"+filt+\"-\"+mjd+\"-\"+str(search_radius.value) +\"_arcsec-ra_dec_cut.reg\", outpath, data_searched_cut, radius, \"red\", \"wcs\")\n",
    "            writeregionfile(sn_name+\"-\"+filt+\"-\"+mjd+\"-\"+str(search_radius.value) +\"_arcsec-pixel_xy_cut.reg\", outpath, data_searched_cut, radius, \"red\", \"img\")\n",
    "            tbl_searched_cut.add_column(np.arange(len(tbl_searched_cut)), name= \"Star #\", index  = 0)\n",
    "            tbl_searched_cut.add_column(tbl_searched_cut['X'] + 0.5, name = 'DS9_X', index = 6)\n",
    "            tbl_searched_cut.add_column(tbl_searched_cut['Y'] + 0.5, name = 'DS9_Y', index = 7)\n",
    "            tbl_searched_cut['DS9_X'] = np.around(tbl_searched_cut['DS9_X'], decimals = 3)\n",
    "            tbl_searched_cut['DS9_Y'] = np.around(tbl_searched_cut['DS9_Y'], decimals = 3)\n",
    "            tbl_searched_cut.write(table_path+sn_name+\"-\"+filt+\"-\"+mjd+\"-\"+str(search_radius.value)+'_arcsec_cut_tbl'+'.html', format = 'html', overwrite = True)"
   ]
  },
  {
   "cell_type": "code",
   "execution_count": 145,
   "id": "d2ada557",
   "metadata": {},
   "outputs": [],
   "source": [
    "#creates full region files using summary.fits\n",
    "#rai, deci is ra and dec of position, radius is search radius\n",
    "def returnregionfilesfull(path, rai, deci, radius, outpath, table_path): #use this for summary.fits\n",
    "    dir_list = glob.glob(path)\n",
    "    filenames = [os.path.basename(x) for x in glob.glob(path+\"*-summary.fits\")]\n",
    "    count = 0\n",
    "    #for each file in path\n",
    "    for count, filename in enumerate(filenames):\n",
    "        if filename != '.DS_Store': #weird mac meta file\n",
    "            print(filename)\n",
    "            find_attributes(filename, radius) #get name, mjd, filt\n",
    "            sn_position = SkyCoord(rai*u.degree, +deci*u.degree)\n",
    "            full_catalog=fits.open(path+filename, ignore_missing_simple=True)[1]\n",
    "            data_full=full_catalog.data\n",
    "            tbl_full=Table(data_full)\n",
    "            radec_full = SkyCoord(ra=data_full.RA*u.degree, dec=data_full.DEC*u.degree)\n",
    "            d2d_full = sn_position.separation(radec_full)\n",
    "            index_full= d2d_full < search_radius\n",
    "            data_searched_full=data_full[index_full]\n",
    "            tbl_searched_full=tbl_full[index_full]\n",
    "            writeregionfile(sn_name+\"-\"+filt+\"-\"+mjd+\"-\"+str(search_radius.value) +\"_arcsec-ra_dec_full.reg\", outpath, data_searched_full, radius, \"red\", \"wcs\")\n",
    "            writeregionfile(sn_name+\"-\"+filt+\"-\"+mjd+\"-\"+str(search_radius.value) +\"_arcsec-pixel_xy_full.reg\", outpath, data_searched_full, radius, \"red\", \"img\")\n",
    "            tbl_searched_full.add_column(np.arange(len(tbl_searched_full)), name= \"Star #\", index  = 0)\n",
    "            tbl_searched_full.add_column(tbl_searched_full['X'] + 0.5, name = 'DS9_X', index = 6)\n",
    "            tbl_searched_full.add_column(tbl_searched_full['Y'] + 0.5, name = 'DS9_Y', index = 7)\n",
    "            tbl_searched_full['DS9_X'] = np.around(tbl_searched_full['DS9_X'], decimals = 3)\n",
    "            tbl_searched_full['DS9_Y'] = np.around(tbl_searched_full['DS9_Y'], decimals = 3)\n",
    "            tbl_searched_full.write(table_path+sn_name+\"-\"+filt+\"-\"+mjd+\"-\"+str(search_radius.value)+'_arcsec_full_tbl'+'.html', format = 'html', overwrite = True)"
   ]
  },
  {
   "cell_type": "code",
   "execution_count": 148,
   "id": "5a76b110",
   "metadata": {
    "scrolled": true
   },
   "outputs": [
    {
     "name": "stdout",
     "output_type": "stream",
     "text": [
      "2022cmc-F160W-mjd_59770-summary.fits\n",
      "SN name: 2022cmc\n",
      "filt: F160W\n",
      "MJD: mjd_59770\n",
      "Search radius: 1.0 arcsec\n",
      "writing region file: 2022cmc-F160W-mjd_59770-1.0_arcsec-ra_dec_full.reg\n",
      "writing region file: 2022cmc-F160W-mjd_59770-1.0_arcsec-pixel_xy_full.reg\n",
      "2022cmc-F606W-mjd_59647-summary.fits\n",
      "SN name: 2022cmc\n",
      "filt: F606W\n",
      "MJD: mjd_59647\n",
      "Search radius: 1.0 arcsec\n",
      "writing region file: 2022cmc-F606W-mjd_59647-1.0_arcsec-ra_dec_full.reg\n",
      "writing region file: 2022cmc-F606W-mjd_59647-1.0_arcsec-pixel_xy_full.reg\n",
      "2022cmc-F160W-mjd_59647-summary.fits\n",
      "SN name: 2022cmc\n",
      "filt: F160W\n",
      "MJD: mjd_59647\n",
      "Search radius: 1.0 arcsec\n",
      "writing region file: 2022cmc-F160W-mjd_59647-1.0_arcsec-ra_dec_full.reg\n",
      "writing region file: 2022cmc-F160W-mjd_59647-1.0_arcsec-pixel_xy_full.reg\n",
      "2022cmc-F606W-mjd_59770-summary.fits\n",
      "SN name: 2022cmc\n",
      "filt: F606W\n",
      "MJD: mjd_59770\n",
      "Search radius: 1.0 arcsec\n",
      "writing region file: 2022cmc-F606W-mjd_59770-1.0_arcsec-ra_dec_full.reg\n",
      "writing region file: 2022cmc-F606W-mjd_59770-1.0_arcsec-pixel_xy_full.reg\n"
     ]
    }
   ],
   "source": [
    "#returnregionfiles(path, ra, dec, search radius)\n",
    "#returning region files of summary.fits\n",
    "#path should point to folder of summary.fits in format previously stated\n",
    "#SN2021do_summary\n",
    "returnregionfilesfull(path, ra, dec, radius, outpath_full, table_path)"
   ]
  },
  {
   "cell_type": "code",
   "execution_count": 80,
   "id": "5fdb4c6b",
   "metadata": {},
   "outputs": [
    {
     "name": "stdout",
     "output_type": "stream",
     "text": [
      "[]\n"
     ]
    }
   ],
   "source": [
    "#returnregionfiles(path, ra, dec, search radius)\n",
    "#returning region files of cut.fits\n",
    "#path should point to folder of cut.fits in format previously stated\n",
    "#SN2021do_cut\n",
    "returnregionfilescut(path, ra, dec, radius, outpath_cut, table_path)"
   ]
  },
  {
   "cell_type": "code",
   "execution_count": null,
   "id": "21eae10f",
   "metadata": {},
   "outputs": [],
   "source": []
  }
 ],
 "metadata": {
  "kernelspec": {
   "display_name": "Python 3 (ipykernel)",
   "language": "python",
   "name": "python3"
  },
  "language_info": {
   "codemirror_mode": {
    "name": "ipython",
    "version": 3
   },
   "file_extension": ".py",
   "mimetype": "text/x-python",
   "name": "python",
   "nbconvert_exporter": "python",
   "pygments_lexer": "ipython3",
   "version": "3.9.12"
  }
 },
 "nbformat": 4,
 "nbformat_minor": 5
}
