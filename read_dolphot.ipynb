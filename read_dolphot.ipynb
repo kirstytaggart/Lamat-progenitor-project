{
 "cells": [
  {
   "cell_type": "code",
   "execution_count": 23,
   "id": "0dce958f",
   "metadata": {},
   "outputs": [],
   "source": [
    "# Cuts used to go from o.summary.fits to o.gst.fits\n",
    "\n",
    "#snr = 5.0\n",
    "#sharp = 0.04\n",
    "#crowd = 0.5\n",
    "#objtype = 1\n",
    "#flag = 99\n",
    "\n",
    "from astropy.io import fits\n",
    "from astropy.table import Table\n",
    "from astropy.coordinates import SkyCoord\n",
    "from astropy import units as u\n"
   ]
  },
  {
   "cell_type": "code",
   "execution_count": 7,
   "id": "f8e5a3f3",
   "metadata": {},
   "outputs": [],
   "source": [
    "path='test_photometry_output/'"
   ]
  },
  {
   "cell_type": "code",
   "execution_count": 17,
   "id": "98554d36",
   "metadata": {},
   "outputs": [],
   "source": [
    "photometry=fits.open(path+'o.gst.fits')[1]"
   ]
  },
  {
   "cell_type": "code",
   "execution_count": 30,
   "id": "8adbe561",
   "metadata": {},
   "outputs": [
    {
     "data": {
      "text/plain": [
       "['chip',\n",
       " 'RA',\n",
       " 'DEC',\n",
       " 'X',\n",
       " 'Y',\n",
       " 'OBJECT_TYPE',\n",
       " 'F555W_VEGA',\n",
       " 'F555W_ERR',\n",
       " 'F555W_SNR',\n",
       " 'F555W_SHARP',\n",
       " 'F555W_ROUND',\n",
       " 'F555W_CROWD',\n",
       " 'F555W_FLAG']"
      ]
     },
     "execution_count": 30,
     "metadata": {},
     "output_type": "execute_result"
    }
   ],
   "source": [
    "tbl=Table(photometry.data)\n",
    "tbl.colnames"
   ]
  },
  {
   "cell_type": "code",
   "execution_count": 24,
   "id": "fd64dd36",
   "metadata": {},
   "outputs": [],
   "source": [
    "sn2021sjt_position = SkyCoord(ra=309.33000691667*u.degree, dec=+66.106417016667*u.degree)\n"
   ]
  },
  {
   "cell_type": "code",
   "execution_count": 25,
   "id": "ed02ec53",
   "metadata": {},
   "outputs": [
    {
     "data": {
      "text/plain": [
       "<SkyCoord (ICRS): (ra, dec) in deg\n",
       "    (309.33000692, 66.10641702)>"
      ]
     },
     "execution_count": 25,
     "metadata": {},
     "output_type": "execute_result"
    }
   ],
   "source": [
    "sn2021sjt_position"
   ]
  },
  {
   "cell_type": "code",
   "execution_count": 36,
   "id": "7460be24",
   "metadata": {},
   "outputs": [],
   "source": [
    "catalog = SkyCoord(ra=tbl['RA']*u.degree, dec=tbl['DEC']*u.degree)"
   ]
  },
  {
   "cell_type": "code",
   "execution_count": 49,
   "id": "6e40d3a3",
   "metadata": {},
   "outputs": [],
   "source": [
    "# Now idx are indices into catalog that are the closest objects to each of the coordinates in c\n",
    "# d2d are the on-sky distances between them,\n",
    "# d3d are the 3-dimensional distances.\n",
    "# Because coordinate objects support indexing, idx enables easy access to the matched set of coordinates \n",
    "# in the catalog:\n",
    "\n",
    "idx, d2d, d3d = sn2021sjt_position.match_to_catalog_sky(catalog)"
   ]
  },
  {
   "cell_type": "code",
   "execution_count": 47,
   "id": "3d45a14a",
   "metadata": {},
   "outputs": [],
   "source": [
    "max_sep = 30.0 * u.arcsec\n"
   ]
  },
  {
   "cell_type": "code",
   "execution_count": 50,
   "id": "92758741",
   "metadata": {},
   "outputs": [
    {
     "data": {
      "text/latex": [
       "[$0^\\circ00{}^\\prime00.05409997{}^{\\prime\\prime}$]"
      ],
      "text/plain": [
       "<Angle [1.50277683e-05] deg>"
      ]
     },
     "execution_count": 50,
     "metadata": {},
     "output_type": "execute_result"
    }
   ],
   "source": [
    "d2d"
   ]
  },
  {
   "cell_type": "code",
   "execution_count": 51,
   "id": "fa89d681",
   "metadata": {},
   "outputs": [
    {
     "data": {
      "text/html": [
       "&lt;Column name=&apos;RA&apos; dtype=&apos;float64&apos; length=7769&gt;\n",
       "<table>\n",
       "<tr><td>309.30106986096405</td></tr>\n",
       "<tr><td>309.38514594955814</td></tr>\n",
       "<tr><td>309.31574638711186</td></tr>\n",
       "<tr><td>309.3271923382695</td></tr>\n",
       "<tr><td>309.3346308089143</td></tr>\n",
       "<tr><td>309.3205936192496</td></tr>\n",
       "<tr><td>309.3929272557338</td></tr>\n",
       "<tr><td>309.3169477501365</td></tr>\n",
       "<tr><td>309.2958953010367</td></tr>\n",
       "<tr><td>309.39314082828946</td></tr>\n",
       "<tr><td>309.36550235238764</td></tr>\n",
       "<tr><td>309.3481999230149</td></tr>\n",
       "<tr><td>309.3255902733972</td></tr>\n",
       "<tr><td>309.349861830713</td></tr>\n",
       "<tr><td>309.32890603038834</td></tr>\n",
       "<tr><td>...</td></tr>\n",
       "<tr><td>309.35709828544736</td></tr>\n",
       "<tr><td>309.3159962265713</td></tr>\n",
       "<tr><td>309.36260152351076</td></tr>\n",
       "<tr><td>309.32988988161003</td></tr>\n",
       "<tr><td>309.36535538776377</td></tr>\n",
       "<tr><td>309.3702659900693</td></tr>\n",
       "<tr><td>309.3203960190291</td></tr>\n",
       "<tr><td>309.35831146201105</td></tr>\n",
       "<tr><td>309.36705453733725</td></tr>\n",
       "<tr><td>309.35277847680067</td></tr>\n",
       "<tr><td>309.36952578851407</td></tr>\n",
       "<tr><td>309.35318857076254</td></tr>\n",
       "<tr><td>309.2925988917225</td></tr>\n",
       "<tr><td>309.28240833768905</td></tr>\n",
       "</table>"
      ],
      "text/plain": [
       "<Column name='RA' dtype='float64' length=7769>\n",
       "309.30106986096405\n",
       "309.38514594955814\n",
       "309.31574638711186\n",
       " 309.3271923382695\n",
       " 309.3346308089143\n",
       " 309.3205936192496\n",
       " 309.3929272557338\n",
       " 309.3169477501365\n",
       " 309.2958953010367\n",
       "309.39314082828946\n",
       "309.36550235238764\n",
       " 309.3481999230149\n",
       " 309.3255902733972\n",
       "  309.349861830713\n",
       "309.32890603038834\n",
       "               ...\n",
       "309.35709828544736\n",
       " 309.3159962265713\n",
       "309.36260152351076\n",
       "309.32988988161003\n",
       "309.36535538776377\n",
       " 309.3702659900693\n",
       " 309.3203960190291\n",
       "309.35831146201105\n",
       "309.36705453733725\n",
       "309.35277847680067\n",
       "309.36952578851407\n",
       "309.35318857076254\n",
       " 309.2925988917225\n",
       "309.28240833768905"
      ]
     },
     "execution_count": 51,
     "metadata": {},
     "output_type": "execute_result"
    }
   ],
   "source": [
    "tbl['RA']"
   ]
  },
  {
   "cell_type": "code",
   "execution_count": null,
   "id": "583b44f6",
   "metadata": {},
   "outputs": [],
   "source": []
  }
 ],
 "metadata": {
  "kernelspec": {
   "display_name": "Python 3 (ipykernel)",
   "language": "python",
   "name": "python3"
  },
  "language_info": {
   "codemirror_mode": {
    "name": "ipython",
    "version": 3
   },
   "file_extension": ".py",
   "mimetype": "text/x-python",
   "name": "python",
   "nbconvert_exporter": "python",
   "pygments_lexer": "ipython3",
   "version": "3.8.5"
  }
 },
 "nbformat": 4,
 "nbformat_minor": 5
}
