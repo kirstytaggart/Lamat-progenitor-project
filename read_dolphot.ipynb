{
 "cells": [
  {
   "cell_type": "code",
   "execution_count": 63,
   "id": "0dce958f",
   "metadata": {},
   "outputs": [],
   "source": [
    "# Cuts used to go from summary.fits to cut.fits, for now we will use the cut.fits file\n",
    "\n",
    "#snr = 5.0\n",
    "#sharp = 0.04\n",
    "#crowd = 0.5\n",
    "#objtype = 1\n",
    "#flag = 99\n",
    "#importing modules\n",
    "\n",
    "from astropy.io import fits\n",
    "from astropy.table import Table\n",
    "from astropy.coordinates import SkyCoord\n",
    "from astropy import units as u\n",
    "from astropy.coordinates import match_coordinates_sky\n",
    "import numpy as np\n",
    "import os\n"
   ]
  },
  {
   "cell_type": "code",
   "execution_count": 75,
   "id": "ab6fcf8b",
   "metadata": {},
   "outputs": [],
   "source": [
    "#DECLARING DIRECTORIES\n",
    "#path to folder of summary/cut.fits with format sn_name-filter-mjd_#-cut/sum.fits i.e: 2021gmj-F625W-mjd_59574-cut.fits\n",
    "#ONLY FITS FILES IN FOLDER!!!!\n",
    "path = '/Users/Dominic/Lamat/2014C/photometry/summary/'\n",
    "#where full region files will be written\n",
    "outpath_full = '/Users/Dominic/Lamat/2014C/photometry/final_catalogs_full/'\n",
    "outpath_cut = '/Users/Dominic/Lamat/2014C/photometry/final_catalogs_cut/'\n",
    "#where cut region files will be written\n",
    "#position in ra and dec (degrees)\n",
    "ra = 339.27333\n",
    "dec = 34.40886\n",
    "#search radius (arc seconds)\n",
    "radius = 1"
   ]
  },
  {
   "cell_type": "code",
   "execution_count": 65,
   "id": "da5b1e9b",
   "metadata": {},
   "outputs": [],
   "source": [
    "#writes region files to outpath\n",
    "#the centre of ds9 pixel is (1,1), but centre of dolphot pixel is (0.5,0.5)\n",
    "#to make it in ds9 format it’s (+0.5,+0.5) to dolphot coordinates\n",
    "def writeregionfile(filename, outpath, objlist, color=\"blue\",sys=''):\n",
    "    if sys == '': \n",
    "        sys = 'wcs'\n",
    "    completeName = os.path.join(outpath, filename)\n",
    "    out = open(completeName, 'w')\n",
    "    i = -1\n",
    "    out.write('# Region file format: DS9 version 4.0\\nglobal color='+color+' font=\"helvetica 10 normal\" select=1 highlite=1 edit=1 move=1 delete=1 include=1 fixed=0 source\\n')\n",
    "    if sys == 'wcs':\n",
    "      out.write('fk5\\n')\n",
    "      for i in range(len(objlist)):\n",
    "        out.write(\"point(%.7f,%.7f) # point=boxcircle text={%i}\\n\" % (objlist.RA[i],objlist.DEC[i], i))\n",
    "    if sys == 'img':\n",
    "      out.write('image\\n')\n",
    "      for i in range(len(objlist)):\n",
    "        out.write(\"point(%.3f,%.3f) # point=boxcircle text={%i}\\n\" % (objlist.X[i] + 0.5 ,objlist.Y[i] + 0.5, i))\n",
    "    out.close()\n",
    "    print(\"writing region file:\", filename)\n"
   ]
  },
  {
   "cell_type": "code",
   "execution_count": 66,
   "id": "7d0925f5",
   "metadata": {},
   "outputs": [],
   "source": [
    "#finds sn name, filter, mjd (date), and search radius\n",
    "def find_attributes(filename, radius):\n",
    "    global sn_name\n",
    "    global filt\n",
    "    global mjd\n",
    "    global search_radius\n",
    "    #reset attributes\n",
    "    sn_name = ''\n",
    "    filt = ''\n",
    "    mjd = ''\n",
    "    search_radius = 0\n",
    "    #split name\n",
    "    filename_split = filename.split(\"-\")#split filename into attributes\n",
    "    \n",
    "    #find name\n",
    "    sn_name = filename_split[0]\n",
    "    print(\"SN name: \" + sn_name)\n",
    "    #find filt\n",
    "    filt = filename_split[1]\n",
    "    print(\"filt: \" + filt)\n",
    "    #find mjd    \n",
    "    mjd = filename_split[2]\n",
    "    print(\"MJD: \" + mjd)\n",
    "    \n",
    "    search_radius = radius * u.arcsec\n",
    "    print('Search radius: ' + str(search_radius))"
   ]
  },
  {
   "cell_type": "code",
   "execution_count": 68,
   "id": "d10f5790",
   "metadata": {},
   "outputs": [],
   "source": [
    "#creates cut region files using cut.fits\n",
    "#rai, deci is ra and dec of position, radius is search radius\n",
    "def returnregionfilescut(path, rai, deci, radius, outpath): #use this for cut.fits\n",
    "    dir_list = os.listdir(path)\n",
    "    #for each file in path\n",
    "    for file in os.listdir(path):\n",
    "        if file != '.DS_Store': #weird mac meta file\n",
    "            filename = os.fsdecode(file)\n",
    "            print(filename)\n",
    "            find_attributes(filename, radius)\n",
    "            sn_position = SkyCoord(rai*u.degree, +deci*u.degree)\n",
    "            cut_catalog=fits.open(path+filename, ignore_missing_simple=True)[1]\n",
    "            data_cut=cut_catalog.data\n",
    "            tbl_cut=Table(data_cut)\n",
    "            radec_cut = SkyCoord(ra=data_cut.RA*u.degree, dec=data_cut.DEC*u.degree)\n",
    "            d2d_cut = sn_position.separation(radec_cut)\n",
    "            index_cut= d2d_cut < search_radius\n",
    "            data_searched_cut=data_cut[index_cut]\n",
    "            tbl_searched_cut=tbl_cut[index_cut]\n",
    "            writeregionfile(sn_name+\"-\"+filt+\"-\"+mjd+\"-\"+str(search_radius.value) +\"_arcsec-ra_dec_cut.reg\", outpath, data_searched_cut, \"red\", \"wcs\")\n",
    "            writeregionfile(sn_name+\"-\"+filt+\"-\"+mjd+\"-\"+str(search_radius.value) +\"_arcsec-pixel_xy_cut.reg\", outpath, data_searched_cut, \"red\", \"img\")"
   ]
  },
  {
   "cell_type": "code",
   "execution_count": 69,
   "id": "d2ada557",
   "metadata": {},
   "outputs": [],
   "source": [
    "#creates full region files using summary.fits\n",
    "#rai, deci is ra and dec of position, radius is search radius\n",
    "def returnregionfilesfull(path, rai, deci, radius, outpath): #use this for summary.fits\n",
    "    dir_list = os.listdir(path)\n",
    "    #for each file in path\n",
    "    for file in os.listdir(path):\n",
    "        if file != '.DS_Store': #weird mac meta file\n",
    "            filename = os.fsdecode(file)\n",
    "            print(filename)\n",
    "            find_attributes(filename, radius) #get name, mjd, filt\n",
    "            sn_position = SkyCoord(rai*u.degree, +deci*u.degree)\n",
    "            full_catalog=fits.open(path+filename, ignore_missing_simple=True)[1]\n",
    "            data_full=full_catalog.data\n",
    "            tbl_full=Table(data_full)\n",
    "            radec_full = SkyCoord(ra=data_full.RA*u.degree, dec=data_full.DEC*u.degree)\n",
    "            d2d_full = sn_position.separation(radec_full)\n",
    "            index_full= d2d_full < search_radius\n",
    "            data_searched_full=data_full[index_full]\n",
    "            tbl_searched_full=tbl_full[index_full]\n",
    "            writeregionfile(sn_name+\"-\"+filt+\"-\"+mjd+\"-\"+str(search_radius.value) +\"_arcsec-ra_dec_full.reg\", outpath, data_searched_full, \"red\", \"wcs\")\n",
    "            writeregionfile(sn_name+\"-\"+filt+\"-\"+mjd+\"-\"+str(search_radius.value) +\"_arcsec-pixel_xy_full.reg\", outpath, data_searched_full, \"red\", \"img\")"
   ]
  },
  {
   "cell_type": "code",
   "execution_count": 78,
   "id": "5a76b110",
   "metadata": {
    "scrolled": true
   },
   "outputs": [
    {
     "name": "stdout",
     "output_type": "stream",
     "text": [
      "2014C-F555W-mjd_59792-summary.fits\n",
      "SN name: 2014C\n",
      "filt: F555W\n",
      "MJD: mjd_59792\n",
      "Search radius: 1.0 arcsec\n",
      "writing region file: 2014C-F555W-mjd_59792-1.0_arcsec-ra_dec_full.reg\n",
      "writing region file: 2014C-F555W-mjd_59792-1.0_arcsec-pixel_xy_full.reg\n",
      "2014C-F814W-mjd_59792-summary.fits\n",
      "SN name: 2014C\n",
      "filt: F814W\n",
      "MJD: mjd_59792\n",
      "Search radius: 1.0 arcsec\n",
      "writing region file: 2014C-F814W-mjd_59792-1.0_arcsec-ra_dec_full.reg\n",
      "writing region file: 2014C-F814W-mjd_59792-1.0_arcsec-pixel_xy_full.reg\n"
     ]
    }
   ],
   "source": [
    "#returnregionfiles(path, ra, dec, search radius)\n",
    "#returning region files of summary.fits\n",
    "#path should point to folder of summary.fits in format previously stated\n",
    "#SN2021do_summary\n",
    "returnregionfilesfull(path, ra, dec, radius, outpath_full)"
   ]
  },
  {
   "cell_type": "code",
   "execution_count": 79,
   "id": "5fdb4c6b",
   "metadata": {},
   "outputs": [
    {
     "name": "stdout",
     "output_type": "stream",
     "text": [
      "2014C-F555W-mjd_59792-summary.fits\n",
      "SN name: 2014C\n",
      "filt: F555W\n",
      "MJD: mjd_59792\n",
      "Search radius: 1.0 arcsec\n",
      "writing region file: 2014C-F555W-mjd_59792-1.0_arcsec-ra_dec_cut.reg\n",
      "writing region file: 2014C-F555W-mjd_59792-1.0_arcsec-pixel_xy_cut.reg\n",
      "2014C-F814W-mjd_59792-summary.fits\n",
      "SN name: 2014C\n",
      "filt: F814W\n",
      "MJD: mjd_59792\n",
      "Search radius: 1.0 arcsec\n",
      "writing region file: 2014C-F814W-mjd_59792-1.0_arcsec-ra_dec_cut.reg\n",
      "writing region file: 2014C-F814W-mjd_59792-1.0_arcsec-pixel_xy_cut.reg\n"
     ]
    }
   ],
   "source": [
    "#returnregionfiles(path, ra, dec, search radius)\n",
    "#returning region files of cut.fits\n",
    "#path should point to folder of cut.fits in format previously stated\n",
    "#SN2021do_cut\n",
    "returnregionfilescut(path, ra, dec, radius, outpath_cut)"
   ]
  },
  {
   "cell_type": "code",
   "execution_count": null,
   "id": "342ac5b9",
   "metadata": {},
   "outputs": [],
   "source": []
  }
 ],
 "metadata": {
  "kernelspec": {
   "display_name": "Python 3 (ipykernel)",
   "language": "python",
   "name": "python3"
  },
  "language_info": {
   "codemirror_mode": {
    "name": "ipython",
    "version": 3
   },
   "file_extension": ".py",
   "mimetype": "text/x-python",
   "name": "python",
   "nbconvert_exporter": "python",
   "pygments_lexer": "ipython3",
   "version": "3.9.12"
  }
 },
 "nbformat": 4,
 "nbformat_minor": 5
}
