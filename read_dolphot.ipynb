{
 "cells": [
  {
   "cell_type": "code",
   "execution_count": 98,
   "id": "0dce958f",
   "metadata": {},
   "outputs": [],
   "source": [
    "# Cuts used to go from o.summary.fits to o.gst.fits, for now we will use the o.gst.fits file\n",
    "\n",
    "#snr = 5.0\n",
    "#sharp = 0.04\n",
    "#crowd = 0.5\n",
    "#objtype = 1\n",
    "#flag = 99\n",
    "\n",
    "from astropy.io import fits\n",
    "from astropy.table import Table\n",
    "from astropy.coordinates import SkyCoord\n",
    "from astropy import units as u\n",
    "from astropy.coordinates import match_coordinates_sky\n",
    "import numpy as np\n"
   ]
  },
  {
   "cell_type": "code",
   "execution_count": 141,
   "id": "23f79d58",
   "metadata": {},
   "outputs": [],
   "source": [
    "def writeregionfile(filename, objlist, color=\"blue\",sys=''):\n",
    "    if sys == '': sys = 'wcs'\n",
    "    out = open(filename,'w')\n",
    "    i = -1\n",
    "    out.write('# Region file format: DS9 version 4.0\\nglobal color='+color+' font=\"helvetica 10 normal\" select=1 highlite=1 edit=1 move=1 delete=1 include=1 fixed=0 source\\n')\n",
    "    if sys == 'wcs':\n",
    "      out.write('fk5\\n')\n",
    "      for i in range(len(objlist)):\n",
    "        out.write(\"point(%.7f,%.7f) # point=boxcircle text={%i}\\n\" % (objlist.RA[i],objlist.DEC[i], i))\n",
    "    if sys == 'img':\n",
    "      out.write('image\\n')\n",
    "      for i in range(len(objlist)):\n",
    "        out.write(\"point(%.3f,%.3f) # point=boxcircle text={%i}\\n\" % (objlist.X[i],objlist.Y[i], i))\n",
    "    out.close()\n",
    "    print(\"writing region file:\", filename)\n"
   ]
  },
  {
   "cell_type": "code",
   "execution_count": 142,
   "id": "a2325cf6",
   "metadata": {},
   "outputs": [],
   "source": [
    "sn_position = SkyCoord(ra=309.33000691667*u.degree, dec=+66.106417016667*u.degree)\n",
    "sn_name='2021sjt'\n",
    "filt='F555W'\n",
    "mjd='56789'\n",
    "search_radius = 3 * u.arcsec\n",
    "path='test_photometry/'"
   ]
  },
  {
   "cell_type": "code",
   "execution_count": 143,
   "id": "98554d36",
   "metadata": {},
   "outputs": [],
   "source": [
    "# Read in the photometry for the filtered catalog and the summary catalog\n",
    "cut_catalog=fits.open(path+'o.gst.fits')[1]\n",
    "full_catalog=fits.open(path+'o.summary.fits')[1]\n",
    "\n",
    "data_cut=cut_catalog.data\n",
    "data_full=full_catalog.data\n",
    "\n",
    "tbl_cut=Table(data_cut)\n",
    "tbl_full=Table(data_full)\n",
    "\n",
    "radec_cut = SkyCoord(ra=data_cut.RA*u.degree, dec=data_cut.DEC*u.degree)\n",
    "radec_full = SkyCoord(ra=data_full.RA*u.degree, dec=data_full.DEC*u.degree)"
   ]
  },
  {
   "cell_type": "code",
   "execution_count": 144,
   "id": "8adbe561",
   "metadata": {
    "scrolled": true
   },
   "outputs": [],
   "source": [
    "d2d_cut = sn_position.separation(radec_cut)\n",
    "d2d_full = sn_position.separation(radec_full)\n",
    "\n",
    "index_cut=d2d_cut < search_radius\n",
    "index_full=d2d_full < search_radius\n",
    "\n",
    "data_searched_cut=data_cut[index_cut]\n",
    "data_searched_full=data_full[index_full]\n",
    "\n",
    "tbl_searched_cut=tbl_cut[index_cut]\n",
    "tbl_searched_full=tbl_full[index_full]\n"
   ]
  },
  {
   "cell_type": "code",
   "execution_count": 145,
   "id": "0dcb0bb6",
   "metadata": {},
   "outputs": [
    {
     "name": "stdout",
     "output_type": "stream",
     "text": [
      "writing region file: 2021sjt-F555W-567893.0 arcsec_ra_dec.reg\n",
      "writing region file: 2021sjt-F555W-567893.0 arcsec_pixel_xy.reg\n"
     ]
    }
   ],
   "source": [
    "writeregionfile(sn_name+\"-\"+filt+\"-\"+mjd+str(search_radius) +\"_ra_dec.reg\", data_searched_cut, \"red\", \"wcs\")\n",
    "writeregionfile(sn_name+\"-\"+filt+\"-\"+mjd+str(search_radius) +\"_pixel_xy.reg\", data_searched_cut, \"red\", \"img\")"
   ]
  },
  {
   "cell_type": "code",
   "execution_count": null,
   "id": "0576469d",
   "metadata": {},
   "outputs": [],
   "source": []
  },
  {
   "cell_type": "code",
   "execution_count": null,
   "id": "fd64dd36",
   "metadata": {},
   "outputs": [],
   "source": []
  },
  {
   "cell_type": "code",
   "execution_count": null,
   "id": "ed02ec53",
   "metadata": {},
   "outputs": [],
   "source": []
  },
  {
   "cell_type": "code",
   "execution_count": null,
   "id": "7460be24",
   "metadata": {},
   "outputs": [],
   "source": [
    "\n"
   ]
  },
  {
   "cell_type": "code",
   "execution_count": null,
   "id": "6e40d3a3",
   "metadata": {},
   "outputs": [],
   "source": []
  },
  {
   "cell_type": "code",
   "execution_count": null,
   "id": "3d45a14a",
   "metadata": {},
   "outputs": [],
   "source": []
  },
  {
   "cell_type": "code",
   "execution_count": null,
   "id": "fa89d681",
   "metadata": {},
   "outputs": [],
   "source": []
  },
  {
   "cell_type": "code",
   "execution_count": null,
   "id": "583b44f6",
   "metadata": {},
   "outputs": [],
   "source": []
  },
  {
   "cell_type": "code",
   "execution_count": null,
   "id": "94879713",
   "metadata": {},
   "outputs": [],
   "source": []
  },
  {
   "cell_type": "code",
   "execution_count": null,
   "id": "5c65b306",
   "metadata": {},
   "outputs": [],
   "source": []
  },
  {
   "cell_type": "code",
   "execution_count": null,
   "id": "a38dc0fb",
   "metadata": {},
   "outputs": [],
   "source": []
  },
  {
   "cell_type": "code",
   "execution_count": null,
   "id": "793d0972",
   "metadata": {
    "scrolled": true,
    "slideshow": {
     "slide_type": "-"
    }
   },
   "outputs": [],
   "source": []
  },
  {
   "cell_type": "code",
   "execution_count": null,
   "id": "4324bca2",
   "metadata": {},
   "outputs": [],
   "source": []
  },
  {
   "cell_type": "code",
   "execution_count": null,
   "id": "03caaadc",
   "metadata": {},
   "outputs": [],
   "source": []
  },
  {
   "cell_type": "code",
   "execution_count": null,
   "id": "af8b3fb8",
   "metadata": {},
   "outputs": [],
   "source": []
  }
 ],
 "metadata": {
  "kernelspec": {
   "display_name": "Python 3 (ipykernel)",
   "language": "python",
   "name": "python3"
  },
  "language_info": {
   "codemirror_mode": {
    "name": "ipython",
    "version": 3
   },
   "file_extension": ".py",
   "mimetype": "text/x-python",
   "name": "python",
   "nbconvert_exporter": "python",
   "pygments_lexer": "ipython3",
   "version": "3.8.5"
  }
 },
 "nbformat": 4,
 "nbformat_minor": 5
}
