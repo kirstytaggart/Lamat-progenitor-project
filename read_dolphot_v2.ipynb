{
 "cells": [
  {
   "cell_type": "code",
   "execution_count": 96,
   "id": "0dce958f",
   "metadata": {},
   "outputs": [],
   "source": [
    "# Cuts used to go from o.summary.fits to o.gst.fits\n",
    "\n",
    "#snr = 5.0\n",
    "#sharp = 0.04\n",
    "#crowd = 0.5\n",
    "#objtype = 1\n",
    "#flag = 99\n",
    "\n",
    "from astropy.io import fits\n",
    "from astropy.table import Table\n",
    "from astropy.coordinates import SkyCoord\n",
    "from astropy import units as u\n",
    "from astropy.coordinates import match_coordinates_sky\n",
    "import numpy as np\n"
   ]
  },
  {
   "cell_type": "code",
   "execution_count": 97,
   "id": "f8e5a3f3",
   "metadata": {},
   "outputs": [],
   "source": [
    "path='test_photometry/'"
   ]
  },
  {
   "cell_type": "code",
   "execution_count": 98,
   "id": "98554d36",
   "metadata": {},
   "outputs": [],
   "source": [
    "cut_catalog=fits.open(path+'o.gst.fits')[1]\n",
    "full_catalog=fits.open(path+'o.summary.fits')[1]"
   ]
  },
  {
   "cell_type": "code",
   "execution_count": 99,
   "id": "8adbe561",
   "metadata": {
    "scrolled": true
   },
   "outputs": [
    {
     "data": {
      "text/plain": [
       "['chip',\n",
       " 'RA',\n",
       " 'DEC',\n",
       " 'X',\n",
       " 'Y',\n",
       " 'OBJECT_TYPE',\n",
       " 'F555W_VEGA',\n",
       " 'F555W_ERR',\n",
       " 'F555W_SNR',\n",
       " 'F555W_SHARP',\n",
       " 'F555W_ROUND',\n",
       " 'F555W_CROWD',\n",
       " 'F555W_FLAG']"
      ]
     },
     "execution_count": 99,
     "metadata": {},
     "output_type": "execute_result"
    }
   ],
   "source": [
    "tbl_cut=Table(cut_catalog.data)\n",
    "tbl_cut.colnames"
   ]
  },
  {
   "cell_type": "code",
   "execution_count": 100,
   "id": "0576469d",
   "metadata": {},
   "outputs": [
    {
     "data": {
      "text/plain": [
       "['chip',\n",
       " 'RA',\n",
       " 'DEC',\n",
       " 'X',\n",
       " 'Y',\n",
       " 'OBJECT_TYPE',\n",
       " 'F555W_VEGA',\n",
       " 'F555W_ERR',\n",
       " 'F555W_SNR',\n",
       " 'F555W_SHARP',\n",
       " 'F555W_ROUND',\n",
       " 'F555W_CROWD',\n",
       " 'F555W_FLAG']"
      ]
     },
     "execution_count": 100,
     "metadata": {},
     "output_type": "execute_result"
    }
   ],
   "source": [
    "tbl_full=Table(full_catalog.data)\n",
    "tbl_full.colnames"
   ]
  },
  {
   "cell_type": "code",
   "execution_count": 101,
   "id": "fd64dd36",
   "metadata": {},
   "outputs": [],
   "source": [
    "sn2021sjt_position = SkyCoord(ra=309.33000691667*u.degree, dec=+66.106417016667*u.degree)"
   ]
  },
  {
   "cell_type": "code",
   "execution_count": 102,
   "id": "ed02ec53",
   "metadata": {},
   "outputs": [
    {
     "data": {
      "text/plain": [
       "<SkyCoord (ICRS): (ra, dec) in deg\n",
       "    (309.33000692, 66.10641702)>"
      ]
     },
     "execution_count": 102,
     "metadata": {},
     "output_type": "execute_result"
    }
   ],
   "source": [
    "sn2021sjt_position"
   ]
  },
  {
   "cell_type": "code",
   "execution_count": 103,
   "id": "7460be24",
   "metadata": {},
   "outputs": [],
   "source": [
    "catalog_radec = SkyCoord(ra=tbl['RA']*u.degree, dec=tbl['DEC']*u.degree)\n",
    "test_object = SkyCoord(ra= 309.30106986096405*u.degree, dec=+66.12665483424358*u.degree)"
   ]
  },
  {
   "cell_type": "code",
   "execution_count": 104,
   "id": "6e40d3a3",
   "metadata": {},
   "outputs": [],
   "source": [
    "# Now idx are indices into catalog that are the closest objects to each of the coordinates in c\n",
    "# d2d are the on-sky distances between them,\n",
    "# d3d are the 3-dimensional distances.\n",
    "# Because coordinate objects support indexing, idx enables easy access to the matched set of coordinates \n",
    "# in the catalog:\n",
    "\n",
    "#dra, ddec = sn2021sjt_position.spherical_offsets_to(matches)"
   ]
  },
  {
   "cell_type": "code",
   "execution_count": 105,
   "id": "3d45a14a",
   "metadata": {},
   "outputs": [
    {
     "name": "stdout",
     "output_type": "stream",
     "text": [
      "[3309 6656 6746 6753 7057]\n",
      "5\n",
      "[[ 309.32997059   66.10642008 2057.69       2455.34      ]\n",
      " [ 309.33034943   66.10635611 2072.79       2454.93      ]\n",
      " [ 309.33047245   66.10643374 2074.03       2446.64      ]\n",
      " [ 309.33067157   66.10635759 2083.55       2449.95      ]\n",
      " [ 309.32996709   66.10656332 2052.24       2443.52      ]]\n"
     ]
    }
   ],
   "source": [
    "search_radius = 1 * u.arcsec\n",
    "#idx, d2d, d3d = sn2021sjt_position.match_to_catalog_sky(catalog)\n",
    "d2d = sn2021sjt_position.separation(catalog_radec)\n",
    "catalogmsk = d2d < search_radius\n",
    "index = np.where(catalogmsk)[0]\n",
    "print(index)\n",
    "print(len(index))\n",
    "objlist = np.zeros((len(index),4))\n",
    "for i in range(len(index)):\n",
    "    objlist[i][0]=tbl['RA'][index[i]]\n",
    "    objlist[i][1]=tbl['DEC'][index[i]]\n",
    "    objlist[i][2]=tbl['X'][index[i]]\n",
    "    objlist[i][3]=tbl['Y'][index[i]]\n",
    "print(objlist)"
   ]
  },
  {
   "cell_type": "code",
   "execution_count": 106,
   "id": "fa89d681",
   "metadata": {},
   "outputs": [
    {
     "data": {
      "text/html": [
       "&lt;Column name=&apos;X&apos; dtype=&apos;float64&apos; length=7769&gt;\n",
       "<table>\n",
       "<tr><td>334.81</td></tr>\n",
       "<tr><td>3596.34</td></tr>\n",
       "<tr><td>632.35</td></tr>\n",
       "<tr><td>1053.19</td></tr>\n",
       "<tr><td>1486.94</td></tr>\n",
       "<tr><td>918.91</td></tr>\n",
       "<tr><td>4028.09</td></tr>\n",
       "<tr><td>755.28</td></tr>\n",
       "<tr><td>128.97</td></tr>\n",
       "<tr><td>...</td></tr>\n",
       "<tr><td>2345.35</td></tr>\n",
       "<tr><td>3693.38</td></tr>\n",
       "<tr><td>3780.28</td></tr>\n",
       "<tr><td>3316.09</td></tr>\n",
       "<tr><td>3863.86</td></tr>\n",
       "<tr><td>3071.86</td></tr>\n",
       "<tr><td>533.07</td></tr>\n",
       "<tr><td>575.2</td></tr>\n",
       "</table>"
      ],
      "text/plain": [
       "<Column name='X' dtype='float64' length=7769>\n",
       " 334.81\n",
       "3596.34\n",
       " 632.35\n",
       "1053.19\n",
       "1486.94\n",
       " 918.91\n",
       "4028.09\n",
       " 755.28\n",
       " 128.97\n",
       "    ...\n",
       "2345.35\n",
       "3693.38\n",
       "3780.28\n",
       "3316.09\n",
       "3863.86\n",
       "3071.86\n",
       " 533.07\n",
       "  575.2"
      ]
     },
     "execution_count": 106,
     "metadata": {},
     "output_type": "execute_result"
    }
   ],
   "source": [
    "tbl_cut['X']"
   ]
  },
  {
   "cell_type": "code",
   "execution_count": 107,
   "id": "583b44f6",
   "metadata": {},
   "outputs": [
    {
     "data": {
      "text/plain": [
       "2455.34"
      ]
     },
     "execution_count": 107,
     "metadata": {},
     "output_type": "execute_result"
    }
   ],
   "source": [
    "tbl_cut['Y'][3309]"
   ]
  },
  {
   "cell_type": "code",
   "execution_count": 108,
   "id": "94879713",
   "metadata": {},
   "outputs": [],
   "source": [
    "def writeregionfile(filename, objlist, color=\"blue\",sys=''):\n",
    "    if sys == '': sys = 'wcs'\n",
    "    out = open(filename,'w')\n",
    "    i = -1\n",
    "    out.write('# Region file format: DS9 version 4.0\\nglobal color='+color+' font=\"helvetica 10 normal\" select=1 highlite=1 edit=1 move=1 delete=1 include=1 fixed=0 source\\n')\n",
    "    if sys == 'wcs':\n",
    "      out.write('fk5\\n')\n",
    "      for ob in objlist:\n",
    "        i += 1\n",
    "        out.write(\"point(%.7f,%.7f) # point=boxcircle text={%i}\\n\" % (objlist[i][0], objlist[i][1], i))\n",
    "    if sys == 'img':\n",
    "      out.write('image\\n')\n",
    "      for ob in objlist:\n",
    "        i += 1\n",
    "        out.write(\"point(%.3f,%.3f) # point=boxcircle text={%i}\\n\" % (objlist[i][2], objlist[i][3], i))\n",
    "    out.close()"
   ]
  },
  {
   "cell_type": "code",
   "execution_count": 109,
   "id": "5c65b306",
   "metadata": {},
   "outputs": [],
   "source": [
    "writeregionfile(\"near_stars_2021sjt_radec_\" + str(search_radius), objlist, \"red\", \"wcs\")"
   ]
  },
  {
   "cell_type": "code",
   "execution_count": 110,
   "id": "a38dc0fb",
   "metadata": {},
   "outputs": [],
   "source": [
    "writeregionfile(\"near_stars_2021sjt_pixels_\" + str(search_radius), objlist, \"red\", \"img\")"
   ]
  },
  {
   "cell_type": "code",
   "execution_count": 120,
   "id": "793d0972",
   "metadata": {
    "scrolled": true,
    "slideshow": {
     "slide_type": "-"
    }
   },
   "outputs": [
    {
     "ename": "ValueError",
     "evalue": "column name F555W_VEGA\n----------\n    24.943\n    26.939\n    26.974\n    26.988\n    26.958 is not in the table",
     "output_type": "error",
     "traceback": [
      "\u001b[0;31m---------------------------------------------------------------------------\u001b[0m",
      "\u001b[0;31mValueError\u001b[0m                                Traceback (most recent call last)",
      "\u001b[0;32m/var/folders/mr/xjmjf6811gg768hcp4mng1t00000gn/T/ipykernel_25529/4009646794.py\u001b[0m in \u001b[0;36m<module>\u001b[0;34m\u001b[0m\n\u001b[1;32m      2\u001b[0m \u001b[0;31m#tab.add_column(col, index=3)\u001b[0m\u001b[0;34m\u001b[0m\u001b[0;34m\u001b[0m\u001b[0m\n\u001b[1;32m      3\u001b[0m \u001b[0;31m#tbl_cut.pprint_exclude_names.add('S')\u001b[0m\u001b[0;34m\u001b[0m\u001b[0;34m\u001b[0m\u001b[0m\n\u001b[0;32m----> 4\u001b[0;31m \u001b[0mtbl_cut\u001b[0m\u001b[0;34m[\u001b[0m\u001b[0mindex\u001b[0m\u001b[0;34m]\u001b[0m\u001b[0;34m.\u001b[0m\u001b[0mreplace_column\u001b[0m\u001b[0;34m(\u001b[0m\u001b[0mtbl_cut\u001b[0m\u001b[0;34m[\u001b[0m\u001b[0mindex\u001b[0m\u001b[0;34m]\u001b[0m\u001b[0;34m[\u001b[0m\u001b[0;34m'F555W_VEGA'\u001b[0m\u001b[0;34m]\u001b[0m\u001b[0;34m,\u001b[0m \u001b[0;36m0\u001b[0m\u001b[0;34m)\u001b[0m\u001b[0;34m\u001b[0m\u001b[0;34m\u001b[0m\u001b[0m\n\u001b[0m\u001b[1;32m      5\u001b[0m \u001b[0mprint\u001b[0m\u001b[0;34m(\u001b[0m\u001b[0mtbl_cut\u001b[0m\u001b[0;34m[\u001b[0m\u001b[0mindex\u001b[0m\u001b[0;34m]\u001b[0m\u001b[0;34m[\u001b[0m\u001b[0;34m'F555W_VEGA'\u001b[0m\u001b[0;34m,\u001b[0m \u001b[0;34m'F555W_ERR'\u001b[0m\u001b[0;34m,\u001b[0m \u001b[0;34m'F555W_SNR'\u001b[0m\u001b[0;34m,\u001b[0m \u001b[0;34m'F555W_SHARP'\u001b[0m\u001b[0;34m,\u001b[0m \u001b[0;34m'F555W_ROUND'\u001b[0m\u001b[0;34m,\u001b[0m \u001b[0;34m'F555W_CROWD'\u001b[0m\u001b[0;34m,\u001b[0m \u001b[0;34m'F555W_FLAG'\u001b[0m\u001b[0;34m]\u001b[0m\u001b[0;34m)\u001b[0m\u001b[0;34m\u001b[0m\u001b[0;34m\u001b[0m\u001b[0m\n",
      "\u001b[0;32m/opt/anaconda3/lib/python3.9/site-packages/astropy/table/table.py\u001b[0m in \u001b[0;36mreplace_column\u001b[0;34m(self, name, col, copy)\u001b[0m\n\u001b[1;32m   2394\u001b[0m         \"\"\"\n\u001b[1;32m   2395\u001b[0m         \u001b[0;32mif\u001b[0m \u001b[0mname\u001b[0m \u001b[0;32mnot\u001b[0m \u001b[0;32min\u001b[0m \u001b[0mself\u001b[0m\u001b[0;34m.\u001b[0m\u001b[0mcolnames\u001b[0m\u001b[0;34m:\u001b[0m\u001b[0;34m\u001b[0m\u001b[0;34m\u001b[0m\u001b[0m\n\u001b[0;32m-> 2396\u001b[0;31m             \u001b[0;32mraise\u001b[0m \u001b[0mValueError\u001b[0m\u001b[0;34m(\u001b[0m\u001b[0;34mf'column name {name} is not in the table'\u001b[0m\u001b[0;34m)\u001b[0m\u001b[0;34m\u001b[0m\u001b[0;34m\u001b[0m\u001b[0m\n\u001b[0m\u001b[1;32m   2397\u001b[0m \u001b[0;34m\u001b[0m\u001b[0m\n\u001b[1;32m   2398\u001b[0m         \u001b[0;32mif\u001b[0m \u001b[0mself\u001b[0m\u001b[0;34m[\u001b[0m\u001b[0mname\u001b[0m\u001b[0;34m]\u001b[0m\u001b[0;34m.\u001b[0m\u001b[0minfo\u001b[0m\u001b[0;34m.\u001b[0m\u001b[0mindices\u001b[0m\u001b[0;34m:\u001b[0m\u001b[0;34m\u001b[0m\u001b[0;34m\u001b[0m\u001b[0m\n",
      "\u001b[0;31mValueError\u001b[0m: column name F555W_VEGA\n----------\n    24.943\n    26.939\n    26.974\n    26.988\n    26.958 is not in the table"
     ]
    }
   ],
   "source": [
    "#col = tbl_cut(, name=star)\n",
    "#tab.add_column(col, index=3)\n",
    "#tbl_cut.pprint_exclude_names.add('S')\n",
    "tbl_cut[index].replace_column(tbl_cut[index]['F555W_VEGA'], 0)\n",
    "print(tbl_cut[index]['F555W_VEGA', 'F555W_ERR', 'F555W_SNR', 'F555W_SHARP', 'F555W_ROUND', 'F555W_CROWD', 'F555W_FLAG'])"
   ]
  },
  {
   "cell_type": "code",
   "execution_count": 112,
   "id": "002ee94a",
   "metadata": {},
   "outputs": [
    {
     "ename": "SyntaxError",
     "evalue": "EOL while scanning string literal (1610768536.py, line 1)",
     "output_type": "error",
     "traceback": [
      "\u001b[0;36m  File \u001b[0;32m\"/var/folders/mr/xjmjf6811gg768hcp4mng1t00000gn/T/ipykernel_25529/1610768536.py\"\u001b[0;36m, line \u001b[0;32m1\u001b[0m\n\u001b[0;31m    F555W_VEGA',\u001b[0m\n\u001b[0m                ^\u001b[0m\n\u001b[0;31mSyntaxError\u001b[0m\u001b[0;31m:\u001b[0m EOL while scanning string literal\n"
     ]
    }
   ],
   "source": [
    "F555W_VEGA',\n",
    " 'F555W_ERR',\n",
    " 'F555W_SNR',\n",
    " 'F555W_SHARP',\n",
    " 'F555W_ROUND',\n",
    " 'F555W_CROWD',\n",
    " 'F555W_FLAG']"
   ]
  },
  {
   "cell_type": "code",
   "execution_count": null,
   "id": "382831fb",
   "metadata": {},
   "outputs": [],
   "source": []
  }
 ],
 "metadata": {
  "kernelspec": {
   "display_name": "Python 3 (ipykernel)",
   "language": "python",
   "name": "python3"
  },
  "language_info": {
   "codemirror_mode": {
    "name": "ipython",
    "version": 3
   },
   "file_extension": ".py",
   "mimetype": "text/x-python",
   "name": "python",
   "nbconvert_exporter": "python",
   "pygments_lexer": "ipython3",
   "version": "3.9.7"
  }
 },
 "nbformat": 4,
 "nbformat_minor": 5
}
