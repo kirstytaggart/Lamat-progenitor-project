{
 "cells": [
  {
   "cell_type": "code",
   "execution_count": 21,
   "id": "0dce958f",
   "metadata": {},
   "outputs": [],
   "source": [
    "# Cuts used to go from o.summary.fits to o.gst.fits\n",
    "\n",
    "#snr = 5.0\n",
    "#sharp = 0.04\n",
    "#crowd = 0.5\n",
    "#objtype = 1\n",
    "#flag = 99\n",
    "\n",
    "from astropy.io import fits\n",
    "from astropy.table import Table\n",
    "from astropy.coordinates import SkyCoord\n",
    "from astropy import units as u\n",
    "from astropy.coordinates import match_coordinates_sky\n",
    "import numpy as np\n"
   ]
  },
  {
   "cell_type": "code",
   "execution_count": 4,
   "id": "f8e5a3f3",
   "metadata": {},
   "outputs": [],
   "source": [
    "path='test_photometry/'"
   ]
  },
  {
   "cell_type": "code",
   "execution_count": 113,
   "id": "98554d36",
   "metadata": {},
   "outputs": [],
   "source": [
    "photometry=fits.open(path+'o.gst.fits')[1]\n",
    "photometry_sum=fits.open(path+'o.summary.fits')[1]"
   ]
  },
  {
   "cell_type": "code",
   "execution_count": 6,
   "id": "8adbe561",
   "metadata": {
    "scrolled": true
   },
   "outputs": [
    {
     "data": {
      "text/plain": [
       "['chip',\n",
       " 'RA',\n",
       " 'DEC',\n",
       " 'X',\n",
       " 'Y',\n",
       " 'OBJECT_TYPE',\n",
       " 'F555W_VEGA',\n",
       " 'F555W_ERR',\n",
       " 'F555W_SNR',\n",
       " 'F555W_SHARP',\n",
       " 'F555W_ROUND',\n",
       " 'F555W_CROWD',\n",
       " 'F555W_FLAG']"
      ]
     },
     "execution_count": 6,
     "metadata": {},
     "output_type": "execute_result"
    }
   ],
   "source": [
    "tbl=Table(photometry.data)\n",
    "tbl.colnames"
   ]
  },
  {
   "cell_type": "code",
   "execution_count": 114,
   "id": "0576469d",
   "metadata": {},
   "outputs": [
    {
     "data": {
      "text/plain": [
       "['chip',\n",
       " 'RA',\n",
       " 'DEC',\n",
       " 'X',\n",
       " 'Y',\n",
       " 'OBJECT_TYPE',\n",
       " 'F555W_VEGA',\n",
       " 'F555W_ERR',\n",
       " 'F555W_SNR',\n",
       " 'F555W_SHARP',\n",
       " 'F555W_ROUND',\n",
       " 'F555W_CROWD',\n",
       " 'F555W_FLAG']"
      ]
     },
     "execution_count": 114,
     "metadata": {},
     "output_type": "execute_result"
    }
   ],
   "source": [
    "tbl_2=Table(photometry_sum.data)\n",
    "tbl_2.colnames"
   ]
  },
  {
   "cell_type": "code",
   "execution_count": 29,
   "id": "fd64dd36",
   "metadata": {},
   "outputs": [],
   "source": [
    "sn2021sjt_position = SkyCoord(ra=309.33000691667*u.degree, dec=+66.106417016667*u.degree)"
   ]
  },
  {
   "cell_type": "code",
   "execution_count": 52,
   "id": "ed02ec53",
   "metadata": {},
   "outputs": [
    {
     "data": {
      "text/plain": [
       "<SkyCoord (ICRS): (ra, dec) in deg\n",
       "    (309.33000692, 66.10641702)>"
      ]
     },
     "execution_count": 52,
     "metadata": {},
     "output_type": "execute_result"
    }
   ],
   "source": [
    "sn2021sjt_position"
   ]
  },
  {
   "cell_type": "code",
   "execution_count": 72,
   "id": "7460be24",
   "metadata": {},
   "outputs": [],
   "source": [
    "catalog = SkyCoord(ra=tbl['RA']*u.degree, dec=tbl['DEC']*u.degree)\n",
    "test_object = SkyCoord(ra= 309.30106986096405*u.degree, dec=+66.12665483424358*u.degree)"
   ]
  },
  {
   "cell_type": "code",
   "execution_count": 32,
   "id": "6e40d3a3",
   "metadata": {},
   "outputs": [],
   "source": [
    "# Now idx are indices into catalog that are the closest objects to each of the coordinates in c\n",
    "# d2d are the on-sky distances between them,\n",
    "# d3d are the 3-dimensional distances.\n",
    "# Because coordinate objects support indexing, idx enables easy access to the matched set of coordinates \n",
    "# in the catalog:\n",
    "\n",
    "dra, ddec = sn2021sjt_position.spherical_offsets_to(matches)"
   ]
  },
  {
   "cell_type": "code",
   "execution_count": 221,
   "id": "3d45a14a",
   "metadata": {},
   "outputs": [
    {
     "name": "stdout",
     "output_type": "stream",
     "text": [
      "[3309 6656 6746 6753 7057]\n",
      "5\n",
      "[[309.32997059  66.10642008]\n",
      " [309.33034943  66.10635611]\n",
      " [309.33047245  66.10643374]\n",
      " [309.33067157  66.10635759]\n",
      " [309.32996709  66.10656332]]\n"
     ]
    }
   ],
   "source": [
    "max_sep = 1 * u.arcsec\n",
    "#idx, d2d, d3d = sn2021sjt_position.match_to_catalog_sky(catalog)\n",
    "d2d = sn2021sjt_position.separation(catalog)\n",
    "catalogmsk = d2d < max_sep\n",
    "idxcatalog = np.where(catalogmsk)[0]\n",
    "print(idxcatalog)\n",
    "print(len(idxcatalog))\n",
    "objlist = np.zeros((len(idxcatalog),2))\n",
    "for i in range(len(idxcatalog)):\n",
    "    objlist[i][0]=tbl['RA'][idxcatalog[i]]\n",
    "    objlist[i][1]=tbl['DEC'][idxcatalog[i]]\n",
    "print(objlist)"
   ]
  },
  {
   "cell_type": "code",
   "execution_count": 105,
   "id": "92758741",
   "metadata": {},
   "outputs": [
    {
     "data": {
      "text/latex": [
       "$2.6228404 \\times 10^{-7} \\; \\mathrm{}$"
      ],
      "text/plain": [
       "<Quantity 2.62284035e-07>"
      ]
     },
     "execution_count": 105,
     "metadata": {},
     "output_type": "execute_result"
    }
   ],
   "source": [
    "d3d"
   ]
  },
  {
   "cell_type": "code",
   "execution_count": 197,
   "id": "fa89d681",
   "metadata": {},
   "outputs": [
    {
     "data": {
      "text/plain": [
       "309.3323900457097"
      ]
     },
     "execution_count": 197,
     "metadata": {},
     "output_type": "execute_result"
    }
   ],
   "source": [
    "tbl['RA'][7671]"
   ]
  },
  {
   "cell_type": "code",
   "execution_count": 198,
   "id": "583b44f6",
   "metadata": {},
   "outputs": [
    {
     "data": {
      "text/plain": [
       "66.101105240825"
      ]
     },
     "execution_count": 198,
     "metadata": {},
     "output_type": "execute_result"
    }
   ],
   "source": [
    "tbl['DEC'][7671]"
   ]
  },
  {
   "cell_type": "code",
   "execution_count": 215,
   "id": "94879713",
   "metadata": {},
   "outputs": [],
   "source": [
    "def writeregionfile(filename, objlist, color=\"blue\",sys=''):\n",
    "    if sys == '': sys = 'wcs'\n",
    "    out = open(filename,'w')\n",
    "    i = -1\n",
    "    out.write('# Region file format: DS9 version 4.0\\nglobal color='+color+' font=\"helvetica 10 normal\" select=1 highlite=1 edit=1 move=1 delete=1 include=1 fixed=0 source\\n')\n",
    "    if sys == 'wcs':\n",
    "      out.write('fk5\\n')\n",
    "      for ob in objlist:\n",
    "        i += 1\n",
    "        out.write(\"point(%.7f,%.7f) # point=boxcircle text={%i}\\n\" % (objlist[i][0], objlist[i][1], i))\n",
    "    if sys == 'img':\n",
    "      out.write('image\\n')\n",
    "      for ob in objlist:\n",
    "        i += 1\n",
    "        out.write(\"point(%.3f,%.3f) # point=boxcircle text={%i}\\n\" % (ob.x, ob.y, i))\n",
    "    out.close()"
   ]
  },
  {
   "cell_type": "code",
   "execution_count": null,
   "id": "5c65b306",
   "metadata": {},
   "outputs": [],
   "source": []
  },
  {
   "cell_type": "code",
   "execution_count": 222,
   "id": "a38dc0fb",
   "metadata": {},
   "outputs": [],
   "source": [
    "writeregionfile(\"nearstars2021sjt1arc.reg\", objlist, \"red\", \"wcs\")"
   ]
  },
  {
   "cell_type": "code",
   "execution_count": null,
   "id": "793d0972",
   "metadata": {},
   "outputs": [],
   "source": []
  }
 ],
 "metadata": {
  "kernelspec": {
   "display_name": "Python 3 (ipykernel)",
   "language": "python",
   "name": "python3"
  },
  "language_info": {
   "codemirror_mode": {
    "name": "ipython",
    "version": 3
   },
   "file_extension": ".py",
   "mimetype": "text/x-python",
   "name": "python",
   "nbconvert_exporter": "python",
   "pygments_lexer": "ipython3",
   "version": "3.9.7"
  }
 },
 "nbformat": 4,
 "nbformat_minor": 5
}
