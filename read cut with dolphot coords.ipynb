{
 "cells": [
  {
   "cell_type": "code",
   "execution_count": 14,
   "id": "dfd550e8",
   "metadata": {},
   "outputs": [],
   "source": [
    "#import packages\n",
    "import numpy as np\n",
    "import matplotlib.pyplot as plt\n",
    "from astropy.io import fits\n",
    "from astropy.table import Table\n",
    "\n",
    "%matplotlib inline"
   ]
  },
  {
   "cell_type": "code",
   "execution_count": 25,
   "id": "15c82de1",
   "metadata": {},
   "outputs": [],
   "source": [
    "img = fits.open('C:/Users/domdo/Lamat/Foley/photometry/cut/2021sjt-F555W-mjd_59997-cut.fits')[1]"
   ]
  },
  {
   "cell_type": "code",
   "execution_count": 26,
   "id": "ccdf4da7",
   "metadata": {},
   "outputs": [
    {
     "data": {
      "text/html": [
       "<div><i>Table length=2</i>\n",
       "<table id=\"table2289906479312\" class=\"table-striped table-bordered table-condensed\">\n",
       "<thead><tr><th>chip</th><th>RA</th><th>DEC</th><th>X</th><th>Y</th><th>OBJECT_TYPE</th><th>F555W_VEGA</th><th>F555W_ERR</th><th>F555W_SNR</th><th>F555W_SHARP</th><th>F555W_ROUND</th><th>F555W_CROWD</th><th>F555W_FLAG</th></tr></thead>\n",
       "<thead><tr><th>float64</th><th>float64</th><th>float64</th><th>float64</th><th>float64</th><th>float64</th><th>float64</th><th>float64</th><th>float64</th><th>float64</th><th>float64</th><th>float64</th><th>float64</th></tr></thead>\n",
       "<tr><td>1.0</td><td>309.33572114734466</td><td>66.10219490633614</td><td>2138.19</td><td>2076.93</td><td>1.0</td><td>26.197</td><td>0.204</td><td>5.3</td><td>-0.069</td><td>0.559</td><td>0.243</td><td>0.0</td></tr>\n",
       "<tr><td>2.0</td><td>309.329905894067</td><td>66.10708104776296</td><td>2138.19</td><td>2467.48</td><td>1.0</td><td>23.838</td><td>0.03</td><td>36.4</td><td>-0.041</td><td>0.359</td><td>0.178</td><td>0.0</td></tr>\n",
       "</table></div>"
      ],
      "text/plain": [
       "<Table length=2>\n",
       "  chip          RA                DEC        ... F555W_CROWD F555W_FLAG\n",
       "float64      float64            float64      ...   float64    float64  \n",
       "------- ------------------ ----------------- ... ----------- ----------\n",
       "    1.0 309.33572114734466 66.10219490633614 ...       0.243        0.0\n",
       "    2.0   309.329905894067 66.10708104776296 ...       0.178        0.0"
      ]
     },
     "execution_count": 26,
     "metadata": {},
     "output_type": "execute_result"
    }
   ],
   "source": [
    "tbl = Table(img.data)\n",
    "tbl.sort(['X'])\n",
    "tbl_mask = tbl['X'] == 2138.19\n",
    "tbl[tbl_mask]"
   ]
  },
  {
   "cell_type": "code",
   "execution_count": null,
   "id": "47465609",
   "metadata": {},
   "outputs": [],
   "source": []
  },
  {
   "cell_type": "code",
   "execution_count": null,
   "id": "e9ba3c64",
   "metadata": {},
   "outputs": [],
   "source": []
  }
 ],
 "metadata": {
  "kernelspec": {
   "display_name": "Python 3 (ipykernel)",
   "language": "python",
   "name": "python3"
  },
  "language_info": {
   "codemirror_mode": {
    "name": "ipython",
    "version": 3
   },
   "file_extension": ".py",
   "mimetype": "text/x-python",
   "name": "python",
   "nbconvert_exporter": "python",
   "pygments_lexer": "ipython3",
   "version": "3.10.9"
  }
 },
 "nbformat": 4,
 "nbformat_minor": 5
}
