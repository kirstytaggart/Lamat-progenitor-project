{
 "cells": [
  {
   "cell_type": "code",
   "execution_count": 32,
   "id": "8e6da848",
   "metadata": {},
   "outputs": [
    {
     "data": {
      "text/plain": [
       "XTENSION= 'IMAGE   '           / Image extension                                \n",
       "BITPIX  =                  -32 / array data type                                \n",
       "NAXIS   =                    2 / number of array dimensions                     \n",
       "NAXIS1  =                 4120                                                  \n",
       "NAXIS2  =                 4388                                                  \n",
       "PCOUNT  =                    0 / number of parameters                           \n",
       "GCOUNT  =                    1 / number of groups                               \n",
       "INHERIT =                    T / inherit the primary header                     \n",
       "EXTNAME = 'SCI     '           / extension name                                 \n",
       "EXTVER  =                    1 / extension version number                       \n",
       "ROOTNAME= 'ierg22unq                         ' / rootname of the observation set\n",
       "EXPNAME = 'ierg22unq                ' / exposure identifier                     \n",
       "BUNIT   = 'ELECTRONS/S'        / Units of science product                       \n",
       "                                                                                \n",
       "              / CCD CHIP IDENTIFICATION                                         \n",
       "                                                                                \n",
       "CCDCHIP = '-999    '           / CCD chip (1 or 2)                              \n",
       "                                                                                \n",
       "              / World Coordinate System and Related Parameters                  \n",
       "                                                                                \n",
       "WCSAXES =                    2 / Number of coordinate axes                      \n",
       "CRPIX1  =               2060.5 / Pixel coordinate of reference point            \n",
       "CRPIX2  =               2194.0 / Pixel coordinate of reference point            \n",
       "CRVAL1  =    154.1941248595932 / [deg] Coordinate value at reference point      \n",
       "CRVAL2  =    73.39926191409131 / [deg] Coordinate value at reference point      \n",
       "CTYPE1  = 'RA---TAN'           / TAN (gnomonic) projection + SIP distortions    \n",
       "CTYPE2  = 'DEC--TAN'           / TAN (gnomonic) projection + SIP distortions    \n",
       "ORIENTAT=    106.7537116175118                                                  \n",
       "VAFACTOR=                  1.0                                                  \n",
       "CD1_1   = 3.17244279303531E-06 / partial of first axis coordinate w.r.t. x      \n",
       "CD1_2   = 1.05383995523416E-05 / partial of first axis coordinate w.r.t. y      \n",
       "CD2_1   = 1.05383995523416E-05 / partial of second axis coordinate w.r.t. x     \n",
       "CD2_2   = -3.1724427930353E-06 / partial of second axis coordinate w.r.t. y     \n",
       "LTV1    =        0.0000000E+00 / offset in X to subsection start                \n",
       "LTV2    =        0.0000000E+00 / offset in Y to subsection start                \n",
       "LTM1_1  =                  1.0 / reciprocal of sampling rate in X               \n",
       "LTM2_2  =                  1.0 / reciprocal of sampling rate in Y               \n",
       "PA_APER =              106.632 / Position Angle of reference aperture center (de\n",
       "RA_APER =   1.542038091667E+02 / RA of aperture reference position              \n",
       "DEC_APER=   7.339836666667E+01 / Declination of aperture reference position     \n",
       "                                                                                \n",
       "              / REPEATED EXPOSURES INFORMATION                                  \n",
       "                                                                                \n",
       "NCOMBINE=                    2 / number of image sets combined during CR rejecti\n",
       "                                                                                \n",
       "              / PHOTOMETRY KEYWORDS                                             \n",
       "                                                                                \n",
       "PHOTMODE= 'WFC3 UVIS2 F555W MJD#59577.9070' / Obser                             \n",
       "PHOTFLAM=         1.874469E-19 / Inverse sensitivity, ergs/cm2/A/e-             \n",
       "PHTFLAM1=   1.874468900000E-19 / Ch1 Inv Sens, use PHOTFLAM for UV filters      \n",
       "PHTFLAM2=        1.8682202E-19 / Ch2 Inv Sens, use PHOTFLAM if FLUXCORR=COMPLETE\n",
       "PHTRATIO=   9.966664157511E-01 / PHTFLAM2/PHTFLAM1 ratio                        \n",
       "PHOTFNU =       1.75882605E-07 / Inverse sensitivity, Jy*sec/e-                 \n",
       "PHOTZPT =       -2.1100000E+01 / ST magnitude zero point                        \n",
       "PHOTPLAM=    5308.171399999999 / Pivot wavelength (Angstroms)                   \n",
       "PHOTBW  =           517.314335 / RMS bandwidth of filter plus detector          \n",
       "                                                                                \n",
       "              / READOUT DEFINITION PARAMETERS                                   \n",
       "                                                                                \n",
       "CENTERA1=                 2104 / subarray axis1 center pt in unbinned dect. pix \n",
       "CENTERA2=                 1036 / subarray axis2 center pt in unbinned dect. pix \n",
       "SIZAXIS1=                 4096 / subarray axis1 size in unbinned detector pixels\n",
       "SIZAXIS2=                 2051 / subarray axis2 size in unbinned detector pixels\n",
       "BINAXIS1=                    1 / axis1 data bin size in unbinned detector pixels\n",
       "BINAXIS2=                    1 / axis2 data bin size in unbinned detector pixels\n",
       "                                                                                \n",
       "              / DATA PACKET INFORMATION                                         \n",
       "                                                                                \n",
       "PODPSFF =                    F / podps fill present (T/F)                       \n",
       "STDCFFF =                    F / science telemetry fill data present (T=1/F=0)  \n",
       "STDCFFP = '0x5569'             / science telemetry fill pattern (hex)           \n",
       "                                                                                \n",
       "              / IMAGE STATISTICS AND DATA QUALITY FLAGS                         \n",
       "                                                                                \n",
       "SDQFLAGS=                31743 / serious data quality flags                     \n",
       "SOFTERRS=                    0 / number of soft error pixels (DQF=1)            \n",
       "MEANFLSH=        6.6232104E+00 / Mean number of counts in post flash exposure   \n",
       "RADESYS = 'ICRS    '           / Equatorial coordinate system                   \n",
       "S_REGION= 'POLYGON ICRS 154.09022319993832 73.38441252475793 &'                 \n",
       "CONTINUE  '154.1662762280534 73.3779716665568 154.22095978560708 &'             \n",
       "CONTINUE  '73.4205333398895 154.14473758612334 73.42699405938627 '              \n",
       "IDCTAB  = 'iref$2731450pi_idc.fits'                                             \n",
       "WCSNAME = 'IDC_2731450pi-FIT_IMG_GSC242' / Coordinate system title              \n",
       "CUNIT1  = 'deg'                / Units of coordinate increment and value        \n",
       "CUNIT2  = 'deg'                / Units of coordinate increment and value        \n",
       "WCSTYPE = 'undistorted a posteriori solution aligned image-by-image to GSC242'  \n",
       "RMS_RA  =    156.1884878661767                                                  \n",
       "RMS_DEC =    131.5421979670658                                                  \n",
       "CRDER1  =    156.1884878661767                                                  \n",
       "CRDER2  =    131.5421979670658                                                  \n",
       "NMATCHES=                   30                                                  \n",
       "HDRNAME = 'ierg22unq_flc_IDC_2731450pi-FIT_IMG_GSC242-hlet.fits'                "
      ]
     },
     "execution_count": 32,
     "metadata": {},
     "output_type": "execute_result"
    }
   ],
   "source": [
    "from astropy.io.fits import printdiff\n",
    "from astropy.io import fits\n",
    "import FITS_tools\n",
    "#to_be_projected = '/Users/Dominic/Lamat/SN2021do/trilogy/ierg22020_drc.fits'\n",
    "#reference_fits  = '/Users/Dominic/Lamat/SN2021do/trilogy/ierg22010_drc.fits'\n",
    "#im1, im2 = FITS_tools.match_fits_cubes(to_be_projected, reference_fits)\n",
    "#printdiff('/Users/Dominic/Lamat/SN2021do/trilogy/ierg22020_drc.fits', '/Users/Dominic/Lamat/SN2021do/trilogy/ierg22010_drc.fits', ext=2)\n",
    "#hdu_list = fits.info('/Users/Dominic/Lamat/SN2021do/trilogy/ierg22020_drc.fits')\n",
    "image_file='/Users/Dominic/Lamat/SN2021do/trilogy/ierg22020_drc.fits'\n",
    "data, header = fits.getdata(image_file, header=True)\n",
    "header['NAXIS1'] = 4120\n",
    "header"
   ]
  },
  {
   "cell_type": "code",
   "execution_count": 33,
   "id": "ac562e17",
   "metadata": {
    "scrolled": false
   },
   "outputs": [
    {
     "name": "stdout",
     "output_type": "stream",
     "text": [
      "From input file /Users/Dominic/Lamat/SN2021gmj/trilogy/trilogy_2021gmj.in :\n",
      "B ierg23020_drc.fits\n",
      "G ierg23020_drc.fits\n",
      "G ierg23010_drc.fits\n",
      "R ierg23010_drc.fits\n",
      "indir = /Users/Dominic/Lamat/SN2021gmj/trilogy\n",
      "outname = 2021gmj\n",
      "samplesize = 500\n",
      "stampsize = 500\n",
      "satpercent = 2\n",
      "noiselum = 5\n",
      "colorsatfac = 1\n",
      "deletetests = 0\n",
      "sampledx = 900\n",
      "sampledy = -300\n",
      "\n",
      "Default:\n",
      "outdir = /Users/Dominic/Lamat/SN2021do/trilogy (default)\n",
      "thumbnail = None (default)\n",
      "testfirst = 1 (default)\n",
      "show = 1 (default)\n",
      "showstamps = 0 (default)\n",
      "showwith = open (default)\n",
      "scaling = None (default)\n",
      "maxstampsize = 6000 (default)\n",
      "legend = 1 (default)\n",
      "invert = 0 (default)\n",
      "combine = average (default)\n",
      "noise = None (default)\n",
      "saturate = None (default)\n",
      "bscale = 1 (default)\n",
      "bzero = 0 (default)\n",
      "correctbias = 0 (default)\n",
      "noisesig = 1 (default)\n",
      "noisesig0 = 2 (default)\n",
      "\n",
      "Loading image data.\n",
      "If multiple filters per channel, adding data.\n",
      "B\n",
      "sgn 1\n",
      "B = \n",
      "\n",
      "G\n",
      "sgn 1\n",
      "G\n",
      "sgn 1\n",
      "Input FAIL.  Your images are not all the same size as (4389,4128).\n",
      "/Users/Dominic/Lamat/SN2021gmj/trilogy/ierg23020_drc.fits[1] (4389, 4128) \n",
      "/Users/Dominic/Lamat/SN2021gmj/trilogy/ierg23020_drc.fits[1] (4389, 4128) \n",
      "/Users/Dominic/Lamat/SN2021gmj/trilogy/ierg23010_drc.fits[1] (4389, 4127) \n",
      "/Users/Dominic/Lamat/SN2021gmj/trilogy/ierg23010_drc.fits[1] (4389, 4127) \n"
     ]
    },
    {
     "ename": "RuntimeError",
     "evalue": "No active exception to reraise",
     "output_type": "error",
     "traceback": [
      "\u001b[0;31m---------------------------------------------------------------------------\u001b[0m",
      "\u001b[0;31mRuntimeError\u001b[0m                              Traceback (most recent call last)",
      "\u001b[0;32m~/Lamat/PROGRAMS/trilogy.py\u001b[0m in \u001b[0;36m<module>\u001b[0;34m\u001b[0m\n\u001b[1;32m   1686\u001b[0m                 \u001b[0minfile\u001b[0m \u001b[0;34m=\u001b[0m \u001b[0minput1\u001b[0m\u001b[0;34m\u001b[0m\u001b[0;34m\u001b[0m\u001b[0m\n\u001b[1;32m   1687\u001b[0m \u001b[0;34m\u001b[0m\u001b[0m\n\u001b[0;32m-> 1688\u001b[0;31m             \u001b[0mTrilogy\u001b[0m\u001b[0;34m(\u001b[0m\u001b[0minfile\u001b[0m\u001b[0;34m,\u001b[0m \u001b[0mimages\u001b[0m\u001b[0;34m=\u001b[0m\u001b[0mimages\u001b[0m\u001b[0;34m,\u001b[0m \u001b[0;34m**\u001b[0m\u001b[0mparams_cl\u001b[0m\u001b[0;34m(\u001b[0m\u001b[0;34m)\u001b[0m\u001b[0;34m)\u001b[0m\u001b[0;34m.\u001b[0m\u001b[0mrun\u001b[0m\u001b[0;34m(\u001b[0m\u001b[0;34m)\u001b[0m\u001b[0;34m\u001b[0m\u001b[0;34m\u001b[0m\u001b[0m\n\u001b[0m\u001b[1;32m   1689\u001b[0m \u001b[0;34m\u001b[0m\u001b[0m\n\u001b[1;32m   1690\u001b[0m     \u001b[0;31m#print 'infile', infile\u001b[0m\u001b[0;34m\u001b[0m\u001b[0;34m\u001b[0m\u001b[0m\n",
      "\u001b[0;32m~/Lamat/PROGRAMS/trilogy.py\u001b[0m in \u001b[0;36mrun\u001b[0;34m(self)\u001b[0m\n\u001b[1;32m   1625\u001b[0m         \u001b[0mself\u001b[0m\u001b[0;34m.\u001b[0m\u001b[0msetimages\u001b[0m\u001b[0;34m(\u001b[0m\u001b[0;34m)\u001b[0m  \u001b[0;31m# not needed from command line\u001b[0m\u001b[0;34m\u001b[0m\u001b[0;34m\u001b[0m\u001b[0m\n\u001b[1;32m   1626\u001b[0m         \u001b[0mself\u001b[0m\u001b[0;34m.\u001b[0m\u001b[0msetoutfile\u001b[0m\u001b[0;34m(\u001b[0m\u001b[0;34m)\u001b[0m  \u001b[0;31m# adds .png if necessary to outname\u001b[0m\u001b[0;34m\u001b[0m\u001b[0;34m\u001b[0m\u001b[0m\n\u001b[0;32m-> 1627\u001b[0;31m         \u001b[0mself\u001b[0m\u001b[0;34m.\u001b[0m\u001b[0mloadimagesize\u001b[0m\u001b[0;34m(\u001b[0m\u001b[0;34m)\u001b[0m\u001b[0;34m\u001b[0m\u001b[0;34m\u001b[0m\u001b[0m\n\u001b[0m\u001b[1;32m   1628\u001b[0m         \u001b[0mself\u001b[0m\u001b[0;34m.\u001b[0m\u001b[0maddtofilterlog\u001b[0m\u001b[0;34m(\u001b[0m\u001b[0;34m)\u001b[0m\u001b[0;34m\u001b[0m\u001b[0;34m\u001b[0m\u001b[0m\n\u001b[1;32m   1629\u001b[0m         \u001b[0;32mif\u001b[0m \u001b[0;34m'justaddlegend'\u001b[0m \u001b[0;32min\u001b[0m \u001b[0mself\u001b[0m\u001b[0;34m.\u001b[0m\u001b[0minkeys\u001b[0m\u001b[0;34m:\u001b[0m\u001b[0;34m\u001b[0m\u001b[0;34m\u001b[0m\u001b[0m\n",
      "\u001b[0;32m~/Lamat/PROGRAMS/trilogy.py\u001b[0m in \u001b[0;36mloadimagesize\u001b[0;34m(self)\u001b[0m\n\u001b[1;32m   1073\u001b[0m                                 \u001b[0mdata\u001b[0m \u001b[0;34m=\u001b[0m \u001b[0mloadfitsimagedata\u001b[0m\u001b[0;34m(\u001b[0m\u001b[0mimage\u001b[0m\u001b[0;34m,\u001b[0m \u001b[0mself\u001b[0m\u001b[0;34m.\u001b[0m\u001b[0mindir\u001b[0m\u001b[0;34m,\u001b[0m \u001b[0msilent\u001b[0m\u001b[0;34m=\u001b[0m\u001b[0;36m0\u001b[0m\u001b[0;34m)\u001b[0m\u001b[0;34m\u001b[0m\u001b[0;34m\u001b[0m\u001b[0m\n\u001b[1;32m   1074\u001b[0m                                 \u001b[0;31m#print image, '(%d,%d)' % data.shape\u001b[0m\u001b[0;34m\u001b[0m\u001b[0;34m\u001b[0m\u001b[0m\n\u001b[0;32m-> 1075\u001b[0;31m                         \u001b[0;32mraise\u001b[0m  \u001b[0;31m# Raise Exception (error) and quit\u001b[0m\u001b[0;34m\u001b[0m\u001b[0;34m\u001b[0m\u001b[0m\n\u001b[0m\u001b[1;32m   1076\u001b[0m \u001b[0;34m\u001b[0m\u001b[0m\n\u001b[1;32m   1077\u001b[0m             \u001b[0mfout\u001b[0m\u001b[0;34m.\u001b[0m\u001b[0mwrite\u001b[0m\u001b[0;34m(\u001b[0m\u001b[0moutline\u001b[0m\u001b[0;34m+\u001b[0m\u001b[0;34m'\\n'\u001b[0m\u001b[0;34m)\u001b[0m\u001b[0;34m\u001b[0m\u001b[0;34m\u001b[0m\u001b[0m\n",
      "\u001b[0;31mRuntimeError\u001b[0m: No active exception to reraise"
     ]
    }
   ],
   "source": [
    "%run -i 'trilogy.py' '/Users/Dominic/Lamat/SN2021gmj/trilogy/trilogy_2021gmj.in'"
   ]
  },
  {
   "cell_type": "code",
   "execution_count": null,
   "id": "572fbf92",
   "metadata": {},
   "outputs": [],
   "source": []
  },
  {
   "cell_type": "code",
   "execution_count": 7,
   "id": "8e2609c5",
   "metadata": {},
   "outputs": [
    {
     "name": "stderr",
     "output_type": "stream",
     "text": [
      "/Users/Dominic/Lamat/PROGRAMS/im2rgbfits.py:117: DeprecationWarning: FLIP_TOP_BOTTOM is deprecated and will be removed in Pillow 10 (2023-07-01). Use Transpose.FLIP_TOP_BOTTOM instead.\n",
      "  im = im.transpose(Image.FLIP_TOP_BOTTOM)\n"
     ]
    },
    {
     "name": "stdout",
     "output_type": "stream",
     "text": [
      "(4387, 4127, 3)\n",
      "R\n",
      "G\n",
      "B\n",
      "/Users/Dominic/Lamat/SN2021sjt/sjt_trilogy/2021sjt_RGB.fits NOW READY FOR \"Open RGB Fits Image\" in ds9\n"
     ]
    }
   ],
   "source": [
    "%run -i 'im2rgbfits.py' '/Users/Dominic/Lamat/SN2021sjt/sjt_trilogy/2021sjt.png'"
   ]
  },
  {
   "cell_type": "code",
   "execution_count": 9,
   "id": "47ff5c0d",
   "metadata": {},
   "outputs": [
    {
     "name": "stdout",
     "output_type": "stream",
     "text": [
      "Requirement already satisfied: FITS_TOOLS in /opt/anaconda3/lib/python3.9/site-packages (0.2)\n",
      "Requirement already satisfied: astropy in /opt/anaconda3/lib/python3.9/site-packages (from FITS_TOOLS) (4.3.1)\n",
      "Requirement already satisfied: numpy>=1.17 in /opt/anaconda3/lib/python3.9/site-packages (from astropy->FITS_TOOLS) (1.20.3)\n",
      "Requirement already satisfied: pyerfa>=1.7.3 in /opt/anaconda3/lib/python3.9/site-packages (from astropy->FITS_TOOLS) (2.0.0)\n",
      "Note: you may need to restart the kernel to use updated packages.\n"
     ]
    }
   ],
   "source": [
    "pip install FITS_TOOLS"
   ]
  },
  {
   "cell_type": "code",
   "execution_count": null,
   "id": "b627e954",
   "metadata": {},
   "outputs": [],
   "source": []
  }
 ],
 "metadata": {
  "kernelspec": {
   "display_name": "Python 3 (ipykernel)",
   "language": "python",
   "name": "python3"
  },
  "language_info": {
   "codemirror_mode": {
    "name": "ipython",
    "version": 3
   },
   "file_extension": ".py",
   "mimetype": "text/x-python",
   "name": "python",
   "nbconvert_exporter": "python",
   "pygments_lexer": "ipython3",
   "version": "3.9.7"
  }
 },
 "nbformat": 4,
 "nbformat_minor": 5
}
